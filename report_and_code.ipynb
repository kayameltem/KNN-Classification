{
  "nbformat": 4,
  "nbformat_minor": 0,
  "metadata": {
    "colab": {
      "name": "Untitled1.ipynb",
      "provenance": [],
      "collapsed_sections": [
        "-d_WcG9WhvQm"
      ]
    },
    "kernelspec": {
      "name": "python3",
      "display_name": "Python 3"
    },
    "language_info": {
      "name": "python"
    }
  },
  "cells": [
    {
      "cell_type": "markdown",
      "metadata": {
        "id": "Gh9tmDdRlwDx"
      },
      "source": [
        "# **Report**\n"
      ]
    },
    {
      "cell_type": "markdown",
      "metadata": {
        "id": "hY0QyrELv2ES"
      },
      "source": [
        "Our general objective in this report and homework is to become used to K-Nearest Neighbors Algorithm. To achieve this, we are tasked with solving two different prediction problems, each given a different part of this report. The first one being a KNN Classification problem and the second being a KNN Regression problem. Each problem will be explained in their respective parts."
      ]
    },
    {
      "cell_type": "markdown",
      "metadata": {
        "id": "P9rY6TEAT0l6"
      },
      "source": [
        "#### Importing necessary libraries and methods.\n",
        "\n",
        "Our first job, of course, is to import the libraries that will be used in our report's code"
      ]
    },
    {
      "cell_type": "code",
      "metadata": {
        "id": "x3BpQFXz9QCb"
      },
      "source": [
        "import numpy as np\n",
        "import pandas as pd\n",
        "import matplotlib.pyplot as plt\n",
        "from IPython.display import display # necessary for visualization of error analysis"
      ],
      "execution_count": 1,
      "outputs": []
    },
    {
      "cell_type": "markdown",
      "metadata": {
        "id": "r5QQRQQOomdw"
      },
      "source": [
        "## Part 1"
      ]
    },
    {
      "cell_type": "markdown",
      "metadata": {
        "id": "SwfuYW2OotVx"
      },
      "source": [
        "In the first part, we will work on a Classification problem by creating and using a hand-made KNN Classifier algorithm. Our objective is to predict the types of a glass pane based on its composition of elements, guessing that it is possible to do so correctly."
      ]
    },
    {
      "cell_type": "markdown",
      "metadata": {
        "id": "cmrM_B0uXl8_"
      },
      "source": [
        "### Read csv file into DataFrame"
      ]
    },
    {
      "cell_type": "code",
      "metadata": {
        "id": "tXE4g60yAFBS"
      },
      "source": [
        "df = pd.read_csv('/drive/My Drive/Colab Notebooks/BBM409-Assignment-1/glass.csv')"
      ],
      "execution_count": 2,
      "outputs": []
    },
    {
      "cell_type": "markdown",
      "metadata": {
        "id": "KsM4vDp0cT7k"
      },
      "source": [
        "Below, We can see our dataset which describes the building blocks of a glass pane along with that glass pane's type. With our wish of possibly predicting the types of these glass panes from their attributes we will use the dataset that have been provided to us. The dataset includes within itself 214 rows and 10 columns. One of the columns, namely, ***Type***  is our target output and the rest 9 columns are our attributes that will be used as our predictive features."
      ]
    },
    {
      "cell_type": "code",
      "metadata": {
        "id": "0MC89_86b4h7",
        "colab": {
          "base_uri": "https://localhost:8080/",
          "height": 417
        },
        "outputId": "a22a97dc-fc98-4df5-924d-ae616c30dae4"
      },
      "source": [
        "df"
      ],
      "execution_count": 3,
      "outputs": [
        {
          "output_type": "execute_result",
          "data": {
            "text/html": [
              "<div>\n",
              "<style scoped>\n",
              "    .dataframe tbody tr th:only-of-type {\n",
              "        vertical-align: middle;\n",
              "    }\n",
              "\n",
              "    .dataframe tbody tr th {\n",
              "        vertical-align: top;\n",
              "    }\n",
              "\n",
              "    .dataframe thead th {\n",
              "        text-align: right;\n",
              "    }\n",
              "</style>\n",
              "<table border=\"1\" class=\"dataframe\">\n",
              "  <thead>\n",
              "    <tr style=\"text-align: right;\">\n",
              "      <th></th>\n",
              "      <th>RI</th>\n",
              "      <th>Na</th>\n",
              "      <th>Mg</th>\n",
              "      <th>Al</th>\n",
              "      <th>Si</th>\n",
              "      <th>K</th>\n",
              "      <th>Ca</th>\n",
              "      <th>Ba</th>\n",
              "      <th>Fe</th>\n",
              "      <th>Type</th>\n",
              "    </tr>\n",
              "  </thead>\n",
              "  <tbody>\n",
              "    <tr>\n",
              "      <th>0</th>\n",
              "      <td>1.52101</td>\n",
              "      <td>13.64</td>\n",
              "      <td>4.49</td>\n",
              "      <td>1.10</td>\n",
              "      <td>71.78</td>\n",
              "      <td>0.06</td>\n",
              "      <td>8.75</td>\n",
              "      <td>0.00</td>\n",
              "      <td>0.0</td>\n",
              "      <td>1</td>\n",
              "    </tr>\n",
              "    <tr>\n",
              "      <th>1</th>\n",
              "      <td>1.51761</td>\n",
              "      <td>13.89</td>\n",
              "      <td>3.60</td>\n",
              "      <td>1.36</td>\n",
              "      <td>72.73</td>\n",
              "      <td>0.48</td>\n",
              "      <td>7.83</td>\n",
              "      <td>0.00</td>\n",
              "      <td>0.0</td>\n",
              "      <td>1</td>\n",
              "    </tr>\n",
              "    <tr>\n",
              "      <th>2</th>\n",
              "      <td>1.51618</td>\n",
              "      <td>13.53</td>\n",
              "      <td>3.55</td>\n",
              "      <td>1.54</td>\n",
              "      <td>72.99</td>\n",
              "      <td>0.39</td>\n",
              "      <td>7.78</td>\n",
              "      <td>0.00</td>\n",
              "      <td>0.0</td>\n",
              "      <td>1</td>\n",
              "    </tr>\n",
              "    <tr>\n",
              "      <th>3</th>\n",
              "      <td>1.51766</td>\n",
              "      <td>13.21</td>\n",
              "      <td>3.69</td>\n",
              "      <td>1.29</td>\n",
              "      <td>72.61</td>\n",
              "      <td>0.57</td>\n",
              "      <td>8.22</td>\n",
              "      <td>0.00</td>\n",
              "      <td>0.0</td>\n",
              "      <td>1</td>\n",
              "    </tr>\n",
              "    <tr>\n",
              "      <th>4</th>\n",
              "      <td>1.51742</td>\n",
              "      <td>13.27</td>\n",
              "      <td>3.62</td>\n",
              "      <td>1.24</td>\n",
              "      <td>73.08</td>\n",
              "      <td>0.55</td>\n",
              "      <td>8.07</td>\n",
              "      <td>0.00</td>\n",
              "      <td>0.0</td>\n",
              "      <td>1</td>\n",
              "    </tr>\n",
              "    <tr>\n",
              "      <th>...</th>\n",
              "      <td>...</td>\n",
              "      <td>...</td>\n",
              "      <td>...</td>\n",
              "      <td>...</td>\n",
              "      <td>...</td>\n",
              "      <td>...</td>\n",
              "      <td>...</td>\n",
              "      <td>...</td>\n",
              "      <td>...</td>\n",
              "      <td>...</td>\n",
              "    </tr>\n",
              "    <tr>\n",
              "      <th>209</th>\n",
              "      <td>1.51623</td>\n",
              "      <td>14.14</td>\n",
              "      <td>0.00</td>\n",
              "      <td>2.88</td>\n",
              "      <td>72.61</td>\n",
              "      <td>0.08</td>\n",
              "      <td>9.18</td>\n",
              "      <td>1.06</td>\n",
              "      <td>0.0</td>\n",
              "      <td>7</td>\n",
              "    </tr>\n",
              "    <tr>\n",
              "      <th>210</th>\n",
              "      <td>1.51685</td>\n",
              "      <td>14.92</td>\n",
              "      <td>0.00</td>\n",
              "      <td>1.99</td>\n",
              "      <td>73.06</td>\n",
              "      <td>0.00</td>\n",
              "      <td>8.40</td>\n",
              "      <td>1.59</td>\n",
              "      <td>0.0</td>\n",
              "      <td>7</td>\n",
              "    </tr>\n",
              "    <tr>\n",
              "      <th>211</th>\n",
              "      <td>1.52065</td>\n",
              "      <td>14.36</td>\n",
              "      <td>0.00</td>\n",
              "      <td>2.02</td>\n",
              "      <td>73.42</td>\n",
              "      <td>0.00</td>\n",
              "      <td>8.44</td>\n",
              "      <td>1.64</td>\n",
              "      <td>0.0</td>\n",
              "      <td>7</td>\n",
              "    </tr>\n",
              "    <tr>\n",
              "      <th>212</th>\n",
              "      <td>1.51651</td>\n",
              "      <td>14.38</td>\n",
              "      <td>0.00</td>\n",
              "      <td>1.94</td>\n",
              "      <td>73.61</td>\n",
              "      <td>0.00</td>\n",
              "      <td>8.48</td>\n",
              "      <td>1.57</td>\n",
              "      <td>0.0</td>\n",
              "      <td>7</td>\n",
              "    </tr>\n",
              "    <tr>\n",
              "      <th>213</th>\n",
              "      <td>1.51711</td>\n",
              "      <td>14.23</td>\n",
              "      <td>0.00</td>\n",
              "      <td>2.08</td>\n",
              "      <td>73.36</td>\n",
              "      <td>0.00</td>\n",
              "      <td>8.62</td>\n",
              "      <td>1.67</td>\n",
              "      <td>0.0</td>\n",
              "      <td>7</td>\n",
              "    </tr>\n",
              "  </tbody>\n",
              "</table>\n",
              "<p>214 rows × 10 columns</p>\n",
              "</div>"
            ],
            "text/plain": [
              "          RI     Na    Mg    Al     Si     K    Ca    Ba   Fe  Type\n",
              "0    1.52101  13.64  4.49  1.10  71.78  0.06  8.75  0.00  0.0     1\n",
              "1    1.51761  13.89  3.60  1.36  72.73  0.48  7.83  0.00  0.0     1\n",
              "2    1.51618  13.53  3.55  1.54  72.99  0.39  7.78  0.00  0.0     1\n",
              "3    1.51766  13.21  3.69  1.29  72.61  0.57  8.22  0.00  0.0     1\n",
              "4    1.51742  13.27  3.62  1.24  73.08  0.55  8.07  0.00  0.0     1\n",
              "..       ...    ...   ...   ...    ...   ...   ...   ...  ...   ...\n",
              "209  1.51623  14.14  0.00  2.88  72.61  0.08  9.18  1.06  0.0     7\n",
              "210  1.51685  14.92  0.00  1.99  73.06  0.00  8.40  1.59  0.0     7\n",
              "211  1.52065  14.36  0.00  2.02  73.42  0.00  8.44  1.64  0.0     7\n",
              "212  1.51651  14.38  0.00  1.94  73.61  0.00  8.48  1.57  0.0     7\n",
              "213  1.51711  14.23  0.00  2.08  73.36  0.00  8.62  1.67  0.0     7\n",
              "\n",
              "[214 rows x 10 columns]"
            ]
          },
          "metadata": {},
          "execution_count": 3
        }
      ]
    },
    {
      "cell_type": "markdown",
      "metadata": {
        "id": "tLtIRN1oisia"
      },
      "source": [
        "Below we can see a simple description of our dataset. Some interesting outtakes we can get are:\n",
        "\n",
        "\n",
        "*   How at least half of our Target, Type, parameter is made up of just categories \"1\" and \"2\" and at least 3/4ths being made up of just three categories \"1\", \"2\" and \"3\". This over-reliance upon just three types of target outputs will surely affect our predictions, especially when we take the \"K\" in KNN to be larger numbers. \n",
        "*   We can also see that parameters like \"Fe\" and \"Ba\" are overwhelmingly a single number, zero. Which will inevitably make them unimportant, especially in non-normalised tests."
      ]
    },
    {
      "cell_type": "code",
      "metadata": {
        "id": "TRiR3jGxRlud",
        "colab": {
          "base_uri": "https://localhost:8080/",
          "height": 295
        },
        "outputId": "36e1060d-205a-454b-f9b9-307f7c73fd2e"
      },
      "source": [
        "df.describe()"
      ],
      "execution_count": 4,
      "outputs": [
        {
          "output_type": "execute_result",
          "data": {
            "text/html": [
              "<div>\n",
              "<style scoped>\n",
              "    .dataframe tbody tr th:only-of-type {\n",
              "        vertical-align: middle;\n",
              "    }\n",
              "\n",
              "    .dataframe tbody tr th {\n",
              "        vertical-align: top;\n",
              "    }\n",
              "\n",
              "    .dataframe thead th {\n",
              "        text-align: right;\n",
              "    }\n",
              "</style>\n",
              "<table border=\"1\" class=\"dataframe\">\n",
              "  <thead>\n",
              "    <tr style=\"text-align: right;\">\n",
              "      <th></th>\n",
              "      <th>RI</th>\n",
              "      <th>Na</th>\n",
              "      <th>Mg</th>\n",
              "      <th>Al</th>\n",
              "      <th>Si</th>\n",
              "      <th>K</th>\n",
              "      <th>Ca</th>\n",
              "      <th>Ba</th>\n",
              "      <th>Fe</th>\n",
              "      <th>Type</th>\n",
              "    </tr>\n",
              "  </thead>\n",
              "  <tbody>\n",
              "    <tr>\n",
              "      <th>count</th>\n",
              "      <td>214.000000</td>\n",
              "      <td>214.000000</td>\n",
              "      <td>214.000000</td>\n",
              "      <td>214.000000</td>\n",
              "      <td>214.000000</td>\n",
              "      <td>214.000000</td>\n",
              "      <td>214.000000</td>\n",
              "      <td>214.000000</td>\n",
              "      <td>214.000000</td>\n",
              "      <td>214.000000</td>\n",
              "    </tr>\n",
              "    <tr>\n",
              "      <th>mean</th>\n",
              "      <td>1.518365</td>\n",
              "      <td>13.407850</td>\n",
              "      <td>2.684533</td>\n",
              "      <td>1.444907</td>\n",
              "      <td>72.650935</td>\n",
              "      <td>0.497056</td>\n",
              "      <td>8.956963</td>\n",
              "      <td>0.175047</td>\n",
              "      <td>0.057009</td>\n",
              "      <td>2.780374</td>\n",
              "    </tr>\n",
              "    <tr>\n",
              "      <th>std</th>\n",
              "      <td>0.003037</td>\n",
              "      <td>0.816604</td>\n",
              "      <td>1.442408</td>\n",
              "      <td>0.499270</td>\n",
              "      <td>0.774546</td>\n",
              "      <td>0.652192</td>\n",
              "      <td>1.423153</td>\n",
              "      <td>0.497219</td>\n",
              "      <td>0.097439</td>\n",
              "      <td>2.103739</td>\n",
              "    </tr>\n",
              "    <tr>\n",
              "      <th>min</th>\n",
              "      <td>1.511150</td>\n",
              "      <td>10.730000</td>\n",
              "      <td>0.000000</td>\n",
              "      <td>0.290000</td>\n",
              "      <td>69.810000</td>\n",
              "      <td>0.000000</td>\n",
              "      <td>5.430000</td>\n",
              "      <td>0.000000</td>\n",
              "      <td>0.000000</td>\n",
              "      <td>1.000000</td>\n",
              "    </tr>\n",
              "    <tr>\n",
              "      <th>25%</th>\n",
              "      <td>1.516523</td>\n",
              "      <td>12.907500</td>\n",
              "      <td>2.115000</td>\n",
              "      <td>1.190000</td>\n",
              "      <td>72.280000</td>\n",
              "      <td>0.122500</td>\n",
              "      <td>8.240000</td>\n",
              "      <td>0.000000</td>\n",
              "      <td>0.000000</td>\n",
              "      <td>1.000000</td>\n",
              "    </tr>\n",
              "    <tr>\n",
              "      <th>50%</th>\n",
              "      <td>1.517680</td>\n",
              "      <td>13.300000</td>\n",
              "      <td>3.480000</td>\n",
              "      <td>1.360000</td>\n",
              "      <td>72.790000</td>\n",
              "      <td>0.555000</td>\n",
              "      <td>8.600000</td>\n",
              "      <td>0.000000</td>\n",
              "      <td>0.000000</td>\n",
              "      <td>2.000000</td>\n",
              "    </tr>\n",
              "    <tr>\n",
              "      <th>75%</th>\n",
              "      <td>1.519157</td>\n",
              "      <td>13.825000</td>\n",
              "      <td>3.600000</td>\n",
              "      <td>1.630000</td>\n",
              "      <td>73.087500</td>\n",
              "      <td>0.610000</td>\n",
              "      <td>9.172500</td>\n",
              "      <td>0.000000</td>\n",
              "      <td>0.100000</td>\n",
              "      <td>3.000000</td>\n",
              "    </tr>\n",
              "    <tr>\n",
              "      <th>max</th>\n",
              "      <td>1.533930</td>\n",
              "      <td>17.380000</td>\n",
              "      <td>4.490000</td>\n",
              "      <td>3.500000</td>\n",
              "      <td>75.410000</td>\n",
              "      <td>6.210000</td>\n",
              "      <td>16.190000</td>\n",
              "      <td>3.150000</td>\n",
              "      <td>0.510000</td>\n",
              "      <td>7.000000</td>\n",
              "    </tr>\n",
              "  </tbody>\n",
              "</table>\n",
              "</div>"
            ],
            "text/plain": [
              "               RI          Na          Mg  ...          Ba          Fe        Type\n",
              "count  214.000000  214.000000  214.000000  ...  214.000000  214.000000  214.000000\n",
              "mean     1.518365   13.407850    2.684533  ...    0.175047    0.057009    2.780374\n",
              "std      0.003037    0.816604    1.442408  ...    0.497219    0.097439    2.103739\n",
              "min      1.511150   10.730000    0.000000  ...    0.000000    0.000000    1.000000\n",
              "25%      1.516523   12.907500    2.115000  ...    0.000000    0.000000    1.000000\n",
              "50%      1.517680   13.300000    3.480000  ...    0.000000    0.000000    2.000000\n",
              "75%      1.519157   13.825000    3.600000  ...    0.000000    0.100000    3.000000\n",
              "max      1.533930   17.380000    4.490000  ...    3.150000    0.510000    7.000000\n",
              "\n",
              "[8 rows x 10 columns]"
            ]
          },
          "metadata": {},
          "execution_count": 4
        }
      ]
    },
    {
      "cell_type": "markdown",
      "metadata": {
        "id": "m3J3P-3bX682"
      },
      "source": [
        "Convert the DataFrame to a NumPy array for future use. Then shuffle the new array so that we may work with a degree of certainty of our dataset being uniformly distributed instead of clustered between type differences that may skew our predictions and testing."
      ]
    },
    {
      "cell_type": "code",
      "metadata": {
        "id": "SCablP_6YAmD"
      },
      "source": [
        "df_arr = df.to_numpy() #Create a numpy array of our dataset\n",
        "\n",
        "#Copy the new array first before shuffling so as to easily reach the original array in the future if need be\n",
        "shuffled_arr = df_arr.copy() \n",
        "\n",
        "np.random.shuffle(shuffled_arr) #Shuffle the array"
      ],
      "execution_count": 5,
      "outputs": []
    },
    {
      "cell_type": "markdown",
      "metadata": {
        "id": "3cH-OWJnZj1V"
      },
      "source": [
        "### K-Fold Function\n",
        "The data set is split into k number of subsets. One of the subsets is chosen as a validation set to test the model and other k-1 subsets are used for training the model."
      ]
    },
    {
      "cell_type": "code",
      "metadata": {
        "id": "suPYxZE4ZbWQ"
      },
      "source": [
        "def kFold(arr,k):\n",
        "    size, _ = arr.shape #the size of given data set\n",
        "    partition_size = int(np.round(size/k)) #the size of each subset\n",
        "\n",
        "    train_test_pairs = [] #train-validation set pairs\n",
        "    for i in range(k):\n",
        "      \n",
        "      \n",
        "      #After the validation set is selected, The remaining data are combined and put into train set.\n",
        "      \n",
        "      train_part_1 = arr[ : partition_size * i]\n",
        "\n",
        "      if (i == k-1):\n",
        "        test = arr[partition_size * i : ] # validation set\n",
        "        train_part_2 = arr[-1:-1] #empty set\n",
        "      else:\n",
        "        test = arr[partition_size * i : partition_size * (i + 1)] # validation set\n",
        "        train_part_2 = arr[(partition_size * (i + 1)) : ]\n",
        "\n",
        "      train = np.append(train_part_1, train_part_2, axis=0) #train set\n",
        "      #Fill the train-validation array\n",
        "      train_test_pairs.append((train, test)) \n",
        "\n",
        "    return train_test_pairs"
      ],
      "execution_count": 6,
      "outputs": []
    },
    {
      "cell_type": "markdown",
      "metadata": {
        "id": "YbPqkjPBYeiQ"
      },
      "source": [
        "### Min-Max Normalization\n",
        "The min_max_norm() function normalizes the value of every attribute by scaling them to be between 0 and 1. So as to make every datapoint have the same scale, which means each feature is equally important."
      ]
    },
    {
      "cell_type": "code",
      "metadata": {
        "id": "IUzY6mVLQ5cO"
      },
      "source": [
        "def min_max_norm(pre_norm_arr):\n",
        "  arr = pre_norm_arr.copy()\n",
        "  \n",
        "  # only takes the x dimension into considiration as it is the row amount\n",
        "  _, col_amount = arr.shape \n",
        "\n",
        "  # normalizes every column\n",
        "  for i in range(col_amount):\n",
        "    col = arr[:, i]\n",
        "    arr[:, i] = (col - col.min()) / (col.max() - col.min())\n",
        "  \n",
        "  return arr"
      ],
      "execution_count": 7,
      "outputs": []
    },
    {
      "cell_type": "markdown",
      "metadata": {
        "id": "tqNr0PWydm8Q"
      },
      "source": [
        "### K-Nearest-Neigbors Classifier\n",
        "\n",
        "Class of KNN Classifier where we define our necessary methods for the correct creation and evaluation of our model. It takes the number of (k-)neighbors that will calculated and whether the classifier will be weighted as its parameters."
      ]
    },
    {
      "cell_type": "markdown",
      "metadata": {
        "id": "7uwHojSsQg8O"
      },
      "source": [
        "#### Methods:\n",
        "\n",
        "&emsp; **euclidean_distance:** Calculates the distance between two attribute vectors by using numpy functions.\n",
        "\n",
        "&emsp; **k_neighbors:** Finds and returns the closest (with respect to euclidean distance that is calculated in our euclidean_distance method) i.e. most similar \"k\" amount of vectors in our training set.\n",
        "\n",
        "&emsp; **fit:** Places our training set (both attributes and targets) within our KNN Model so as to easily predict our test sets using them.\n",
        "\n",
        "&emsp; **single_predict:** Predicts a single full attribute vector's target class/type and returns the prediction. Works differently depending on whether our KNN calculation will be weighted or not.\n",
        "\n",
        "&emsp; **predict:** Predicts a full test set's target values using single_predict upon each one of them seperately. At the end returns all of the predictions as a numpy array."
      ]
    },
    {
      "cell_type": "code",
      "metadata": {
        "id": "9Ffkl2QcbyUq"
      },
      "source": [
        "class KNNClassifier:\n",
        "  def __init__(self, k_neighbors, is_weighted = False):\n",
        "    self.k_neighbors = k_neighbors # Amount of neighbors we will work with\n",
        "    self.is_weighted = is_weighted # If we work with weighted\n",
        "    self.neighbors_list = np.array([], dtype = 'int')\n",
        "  \n",
        "  def euclidean_distance(self, sample_1, sample_2):\n",
        "    #Calculate euclidean distance between two attribute vectors\n",
        "\n",
        "    subtracted = np.subtract(sample_1, sample_2)\n",
        "    squared = np.square(subtracted)\n",
        "    total_distance = np.sum(squared)\n",
        "    \n",
        "    \"\"\"To prevent infinity while calculating weights (in Weighted KNN), \n",
        "    set the distance very small value, which is arbitrary chosen as 0.0000000000000000000000000000001, if the calculated distance is 0.\n",
        "    \"\"\"\n",
        "    return 0.0000000000000000000000000000001 if total_distance == 0 else np.sqrt(total_distance)\n",
        "\n",
        "  def get_k_neighbors(self, sample_to_predict):\n",
        "    #Calculate and return a list of clossest k neighbors (their indices inside the dataset) alongside their distances from the single sample\n",
        "\n",
        "    all_distances = list()\n",
        "\n",
        "    #Calculate the distance between each train and test rows.\n",
        "    for train_row in self.trained_data:\n",
        "      distance = self.euclidean_distance(sample_to_predict, train_row)\n",
        "      all_distances.append(distance)\n",
        "    # Locate k nearest neighbors in min_indices.\n",
        "    min_indices = np.argpartition(all_distances, self.k_neighbors)[:self.k_neighbors]\n",
        "    self.neighbors_list = np.append(self.neighbors_list,min_indices)\n",
        "    return min_indices, np.array(all_distances)[min_indices]\n",
        "\n",
        "  def fit(self, training_sample, training_target):\n",
        "    #Places our training dataset within our model\n",
        "\n",
        "    self.trained_data = training_sample\n",
        "    self.trained_target = training_target\n",
        "\n",
        "  # Make a classification prediction with neighbors\n",
        "  def single_predict(self, sample_to_predict):\n",
        "    \n",
        "    neighbors_indices, neighbors_distances = self.get_k_neighbors(sample_to_predict)\n",
        "    output_values = self.trained_target[neighbors_indices]\n",
        "    #Prediction of weighted KNN\n",
        "    if self.is_weighted:\n",
        "      reci_neighbors_distances= np.reciprocal(neighbors_distances)\n",
        "\n",
        "      weight_dict = dict() #put the classes of neighbors as unique keys and stores the weights of each data as values.\n",
        "\n",
        "      for i in range(output_values.size):\n",
        "\n",
        "        if output_values[i] in weight_dict.keys():\n",
        "          weight_dict[output_values[i]] = weight_dict[output_values[i]] + reci_neighbors_distances[i]\n",
        "        else: \n",
        "          weight_dict[output_values[i]] = reci_neighbors_distances[i] #create the key and assign its value which has not been existed.\n",
        "\n",
        "      prediction = max(weight_dict, key = lambda x: weight_dict[x])\n",
        "      return prediction\n",
        "\n",
        "    #Prediction of uniform weighted KNN\n",
        "    else: \n",
        "      uniques, counts = np.unique(output_values, return_counts=True)\n",
        "      prediction = uniques[np.where(counts == max(counts))]\n",
        "      return prediction[0]\n",
        "\n",
        "  #Return prediction of all test data.\n",
        "  def predict(self, test_samples):\n",
        "    \n",
        "    predictions = np.array([])\n",
        "    for sample in test_samples:\n",
        "      predictions = np.append(predictions, self.single_predict(sample))\n",
        "      #reshaping neighbor list as 2D-array which has k columns\n",
        "      self.neighbors_list = self.neighbors_list.reshape(int(self.neighbors_list.size/self.k_neighbors),self.k_neighbors)\n",
        "    return predictions, self.neighbors_list"
      ],
      "execution_count": 8,
      "outputs": []
    },
    {
      "cell_type": "markdown",
      "metadata": {
        "id": "-d_WcG9WhvQm"
      },
      "source": [
        "### Accuracy Metric\n",
        "Calculates and returns the ratio of number of correct predictions over total number of predictions as our overall accuracy within a single particular pair of training and test sets."
      ]
    },
    {
      "cell_type": "code",
      "metadata": {
        "id": "bPL0uQoDjl74"
      },
      "source": [
        "def accuracy_metric(data, predicted):\n",
        "\tcorrect = 0   # The total number of correct predictions \n",
        "\tincorrect = 3 # Arbitrary chosen number to visualize misclassified data.\n",
        "\tmisclassified = [] #stores the index of misclassified data\n",
        "\tfor i in range(len(data)): \n",
        "\t\t#if the result of actual data and predicted data are same, increase total number of correct predictions by 1 \n",
        "\t\tif data[i] == predicted[i]: \n",
        "\t\t\tcorrect += 1\n",
        "\t\telse:\n",
        "\t\t\tif incorrect != 0:\n",
        "\t\t\t\tmisclassified.append(i) \n",
        "\t\t\t\tincorrect -= 1\n",
        "\t# return the percentage of accuracy\n",
        "\treturn 100 * (correct / len(data)) , misclassified "
      ],
      "execution_count": 9,
      "outputs": []
    },
    {
      "cell_type": "markdown",
      "metadata": {
        "id": "u5q-lzTXPvyX"
      },
      "source": [
        "### Tester"
      ]
    },
    {
      "cell_type": "markdown",
      "metadata": {
        "id": "sjGri_itmmC6"
      },
      "source": [
        "The testing function where we do the majority of our pre-processes, predictions and testing processes. In this tester we are working  mainly with shuffled arrays and amount of folds that will be needed in our K-Fold Cross Validations within. We can also determine whether we want the datasets to be normalised, whether distances to be weighted, the amount of K-Neighbors to test with as a list of \"K\"s, and even whether our model will be a regression or classification model. As regression is the subject of our next part, we will explain it in that section, but it is still worth noting that this function is capable of working with it too.\n",
        "\n",
        "It is here where we test for each \"K\" of KNN in a loop and within those loops use our K-Fold Cross Validation for each different KNN \"K\"s. For this, we first prepare each of our folds using K-Fold, then loop around each train-test split one-by-one. Within each loop, we first split our training and test sets into attribute and target vectors. Then we either normalize our attribute sets or not depending on our isNormalised parameter. Later, we create our model, depending on isRegression being \"True\" or \"False\", the model will be either a Regression model or a Classification model. Later we fit our training set within our model and predict the test set's targets. Lastly, we calculate their accuracies, with either mean absolute error or average accuracies, depending on whether we work with Regression or Classification. Outside K-Fold loop, we get the average of previous accuracies and return these averaged accuracies outside of our function."
      ]
    },
    {
      "cell_type": "code",
      "metadata": {
        "id": "DqQYFJXbD9S4"
      },
      "source": [
        "#This function is a test sample which provides the stated conditions in the assignment1 pdf.\n",
        "def tester(arr, k_fold_num, isNormalised=False, isWeighted=False, k_neighbors_to_test=[1,3,5,7,9], isRegression=False):\n",
        "  each_k_neighbors_accuracy = list()\n",
        "\n",
        "  for i in k_neighbors_to_test:\n",
        "\n",
        "    train_test_pairs = kFold(arr, k_fold_num)\n",
        "\n",
        "    kth_fold_acc = np.array([])\n",
        "\n",
        "    #Run all test-train couples\n",
        "    for (train_sample, test_sample) in train_test_pairs:\n",
        "      x_test = test_sample[ : , :-1] #attributes of test_sample\n",
        "      y_test = test_sample[ : , -1] #classification of test_sample\n",
        "      x_train = train_sample[ : , :-1] #attributes of train_sample\n",
        "      y_train = train_sample[ : , -1] #classification of train_sample\n",
        "\n",
        "      if isNormalised:\n",
        "        x_train = min_max_norm(x_train)\n",
        "        x_test = min_max_norm(x_test)\n",
        "\n",
        "      #if isRegression is true, make prediction using k-NN algorithm.\n",
        "      if isRegression:\n",
        "        knn = KNNRegression(i, isWeighted)\n",
        "      # if isRegression is false, predict the class using k-NN algorithm.\n",
        "      else:\n",
        "        knn = KNNClassifier(i, isWeighted)\n",
        "\n",
        "      knn.fit(x_train, y_train)\n",
        "\n",
        "      predictions, neighbors_all = knn.predict(x_test)\n",
        "      \n",
        "      #If isRegression is true, calculate accuracy using mean absolute error function.\n",
        "      if isRegression:\n",
        "        accuracy = mae(y_test, predictions)\n",
        "      #Else, calculate accuracy using accuracy metric function which gives classification performance as a result. \n",
        "      else:\n",
        "        accuracy, misclassified = accuracy_metric(y_test, predictions)  # değiştirdim\n",
        "\n",
        "        #This part for visualization of error anlaysis of classification.\n",
        "        # Each table includes test sample and its predicted class with its attributes and neighbors.\n",
        "        # To reduce the runtime, visualization part is put into the comment line, If you want to try, you can remove from comment line\n",
        "\n",
        "        \"\"\"\n",
        "        df_prediction = np.concatenate((test_sample[ : , :-1],predictions[:, None]), axis = 1) # attributes and predicted classes together\n",
        "        for index in misclassified:\n",
        "            classification_row = np.concatenate((df_prediction[index, None], test_sample[index, None]))\n",
        "            neighbors_row = [[str(train_sample[k, j]) for j in range(0, len(df.columns))] for k in neighbors_all[index]]\n",
        "            all_row = np.concatenate((neighbors_row, classification_row))\n",
        "            row_labels = np.append([\"neighbor_{}\".format(m) for m in range(1, len(neighbors_row) + 1)], [\"Prediction\", \"Actual\"])\n",
        "  \n",
        "            results_df = pd.DataFrame(all_row, columns=df.columns, index=row_labels)\n",
        "            pd.set_option(\"display.max_columns\", None)\n",
        "            pd.set_option(\"display.max_rows\", None)\n",
        "            display(results_df)\n",
        "            print(\"\\n\\n\")\n",
        "        \"\"\"\n",
        "      kth_fold_acc = np.append(kth_fold_acc, accuracy)\n",
        "    \n",
        "    average_acc = np.average(kth_fold_acc)\n",
        "    each_k_neighbors_accuracy.append(average_acc)\n",
        "       \n",
        "  return each_k_neighbors_accuracy"
      ],
      "execution_count": 10,
      "outputs": []
    },
    {
      "cell_type": "markdown",
      "metadata": {
        "id": "mX7S_5UDh_Pm"
      },
      "source": [
        "### Testing Of Different"
      ]
    },
    {
      "cell_type": "markdown",
      "metadata": {
        "id": "trnAv0QpjTrW"
      },
      "source": [
        "#### KNN-Classifier Tests"
      ]
    },
    {
      "cell_type": "markdown",
      "metadata": {
        "id": "gKhakvTtj3_c"
      },
      "source": [
        "##### Non-Normalised Test"
      ]
    },
    {
      "cell_type": "code",
      "metadata": {
        "id": "ZN_cMTanGi7t"
      },
      "source": [
        "non_normal_acc = tester(shuffled_arr, 5, isNormalised=False, isWeighted=False, k_neighbors_to_test=[1,3,5,7,9])"
      ],
      "execution_count": 11,
      "outputs": []
    },
    {
      "cell_type": "code",
      "metadata": {
        "id": "Z-ceiMLIER_O",
        "colab": {
          "base_uri": "https://localhost:8080/"
        },
        "outputId": "c5a4dc99-7c03-4fc0-d939-5214d15800b2"
      },
      "source": [
        "print(non_normal_acc)"
      ],
      "execution_count": 12,
      "outputs": [
        {
          "output_type": "stream",
          "name": "stdout",
          "text": [
            "[73.34440753045403, 67.75193798449614, 65.90254706533776, 65.43743078626798, 61.22923588039866]\n"
          ]
        }
      ]
    },
    {
      "cell_type": "markdown",
      "metadata": {
        "id": "c2xE51poj93m"
      },
      "source": [
        "##### Normalised Test"
      ]
    },
    {
      "cell_type": "code",
      "metadata": {
        "id": "ulNPwt_UGsFV"
      },
      "source": [
        "normal_acc = tester(shuffled_arr, 5, isNormalised=True, isWeighted=False, k_neighbors_to_test=[1,3,5,7,9])"
      ],
      "execution_count": 13,
      "outputs": []
    },
    {
      "cell_type": "code",
      "metadata": {
        "id": "zImy0fHNjvV1",
        "colab": {
          "base_uri": "https://localhost:8080/"
        },
        "outputId": "f940f2c2-0e3c-43b1-d2bb-df6a940bd307"
      },
      "source": [
        "print(normal_acc)"
      ],
      "execution_count": 14,
      "outputs": [
        {
          "output_type": "stream",
          "name": "stdout",
          "text": [
            "[58.91472868217054, 61.6389811738649, 57.48615725359912, 58.42746400885935, 57.04318936877077]\n"
          ]
        }
      ]
    },
    {
      "cell_type": "markdown",
      "metadata": {
        "id": "kjgmojv6jbkE"
      },
      "source": [
        "#### Weighted KNN-Classifier Tests"
      ]
    },
    {
      "cell_type": "markdown",
      "metadata": {
        "id": "GNZxrr-vlhIF"
      },
      "source": [
        "##### Non-Normalised Test"
      ]
    },
    {
      "cell_type": "code",
      "metadata": {
        "id": "-ZxR32JgG7yd"
      },
      "source": [
        "non_normal_acc_weighted = tester(shuffled_arr, 5, isNormalised=False, isWeighted=True, k_neighbors_to_test=[1,3,5,7,9])"
      ],
      "execution_count": 15,
      "outputs": []
    },
    {
      "cell_type": "code",
      "metadata": {
        "id": "G97F7dsacMOo",
        "colab": {
          "base_uri": "https://localhost:8080/"
        },
        "outputId": "77ade490-9117-4f08-9b2f-7c4e61d877e3"
      },
      "source": [
        "print(non_normal_acc_weighted)"
      ],
      "execution_count": 16,
      "outputs": [
        {
          "output_type": "stream",
          "name": "stdout",
          "text": [
            "[73.34440753045403, 70.07751937984497, 71.0188261351052, 69.14728682170542, 67.27574750830564]\n"
          ]
        }
      ]
    },
    {
      "cell_type": "markdown",
      "metadata": {
        "id": "pGoX-5YBljgd"
      },
      "source": [
        "##### Normalised Test"
      ]
    },
    {
      "cell_type": "code",
      "metadata": {
        "id": "FASQThBPX8ST"
      },
      "source": [
        "normal_acc_weighted = tester(shuffled_arr, 5, isNormalised=True, isWeighted=True, k_neighbors_to_test=[1,3,5,7,9])"
      ],
      "execution_count": 17,
      "outputs": []
    },
    {
      "cell_type": "code",
      "metadata": {
        "id": "nHJHReBPHFX0",
        "colab": {
          "base_uri": "https://localhost:8080/"
        },
        "outputId": "f842a383-17d2-4a64-f4ef-aead10224536"
      },
      "source": [
        "print(normal_acc_weighted)"
      ],
      "execution_count": 18,
      "outputs": [
        {
          "output_type": "stream",
          "name": "stdout",
          "text": [
            "[58.91472868217054, 61.66112956810631, 59.82281284606866, 59.82281284606866, 57.98449612403101]\n"
          ]
        }
      ]
    },
    {
      "cell_type": "markdown",
      "metadata": {
        "id": "fcvtOeQLsA_t"
      },
      "source": [
        "#### Graphs of Results"
      ]
    },
    {
      "cell_type": "markdown",
      "metadata": {
        "id": "tabxdkRbs6IG"
      },
      "source": [
        "Below we can see the graphs of our resulting tests for all four of our testing categories. First graph shows all four categories side by side, to show an overall picture of their standings. The second and third graphs represent non-weighted and weighted results respectively. In all graphs, the y-dimension constitutes our overall accuracy while the x-dimension constitutes the different \"k\" values such as 1, 3, 5, 7 and 9. Our overall discussion regarding their standing, however, will be made in the Error Analysis section."
      ]
    },
    {
      "cell_type": "code",
      "metadata": {
        "id": "mOym341jecl5",
        "colab": {
          "base_uri": "https://localhost:8080/",
          "height": 312
        },
        "outputId": "05b01bc6-0d87-4d59-d22b-96297b307153"
      },
      "source": [
        "plt.plot(range(1, 10, 2), non_normal_acc, 'o', label='Non-Normalized Accuracy', color='black')\n",
        "plt.plot(range(1, 10, 2), normal_acc, 'o', label='Normalized Accuracy', color='red')\n",
        "plt.plot(range(1, 10, 2), non_normal_acc_weighted, 'o', label='Weighted Non-Normalized Accuracy', color='blue')\n",
        "plt.plot(range(1, 10, 2), normal_acc_weighted, 'o', label='Weighted Normalized Accuracy', color='green')\n",
        "plt.xlabel('K (Number)')\n",
        "plt.ylabel('Accuracy')\n",
        "plt.title(\"All Overall Accuracies\")\n",
        "plt.legend()"
      ],
      "execution_count": 19,
      "outputs": [
        {
          "output_type": "execute_result",
          "data": {
            "text/plain": [
              "<matplotlib.legend.Legend at 0x7f835749a2d0>"
            ]
          },
          "metadata": {},
          "execution_count": 19
        },
        {
          "output_type": "display_data",
          "data": {
            "image/png": "[encoded data removed]",
            "text/plain": [
              "<Figure size 432x288 with 1 Axes>"
            ]
          },
          "metadata": {
            "needs_background": "light"
          }
        }
      ]
    },
    {
      "cell_type": "code",
      "metadata": {
        "id": "NBDMg9IQnTPm",
        "colab": {
          "base_uri": "https://localhost:8080/",
          "height": 312
        },
        "outputId": "b25a8774-4e44-4892-f875-1bc6f052ae5c"
      },
      "source": [
        "plt.plot(range(1, 10, 2), non_normal_acc, 'o', label='Non-Normalized Accuracy', color='black')\n",
        "plt.plot(range(1, 10, 2), normal_acc, 'o', label='Normalized Accuracy', color='red')\n",
        "plt.xlabel('K (Number)')\n",
        "plt.ylabel('Accuracy')\n",
        "plt.title(\"Overall Accuracies without Weights\")\n",
        "plt.legend()"
      ],
      "execution_count": 20,
      "outputs": [
        {
          "output_type": "execute_result",
          "data": {
            "text/plain": [
              "<matplotlib.legend.Legend at 0x7f8356f3ef50>"
            ]
          },
          "metadata": {},
          "execution_count": 20
        },
        {
          "output_type": "display_data",
          "data": {
            "image/png": "[encoded data removed]",
            "text/plain": [
              "<Figure size 432x288 with 1 Axes>"
            ]
          },
          "metadata": {
            "needs_background": "light"
          }
        }
      ]
    },
    {
      "cell_type": "code",
      "metadata": {
        "id": "zCAIyh9gnTvt",
        "colab": {
          "base_uri": "https://localhost:8080/",
          "height": 312
        },
        "outputId": "818ab7cf-befa-43e5-8696-0cb77bf5e9a3"
      },
      "source": [
        "plt.plot(range(1, 10, 2), non_normal_acc_weighted, 'o', label='Weighted Non-Normalized Accuracy', color='blue')\n",
        "plt.plot(range(1, 10, 2), normal_acc_weighted, 'o', label='Weighted Normalized Accuracy', color='green')\n",
        "plt.xlabel('K (Number)')\n",
        "plt.ylabel('Accuracy')\n",
        "plt.title(\"Overall Accuracies with Weights\")\n",
        "plt.legend()"
      ],
      "execution_count": 21,
      "outputs": [
        {
          "output_type": "execute_result",
          "data": {
            "text/plain": [
              "<matplotlib.legend.Legend at 0x7f8356ed6450>"
            ]
          },
          "metadata": {},
          "execution_count": 21
        },
        {
          "output_type": "display_data",
          "data": {
            "image/png": "[encoded data removed]",
            "text/plain": [
              "<Figure size 432x288 with 1 Axes>"
            ]
          },
          "metadata": {
            "needs_background": "light"
          }
        }
      ]
    },
    {
      "cell_type": "markdown",
      "metadata": {
        "id": "Ol6THnmTjKeP"
      },
      "source": [
        "### Error Analysis for KNN Classification\n"
      ]
    },
    {
      "cell_type": "code",
      "metadata": {
        "id": "CEO90GaA84yD"
      },
      "source": [
        "nna = ['Non-Normalized Accuracy']\n",
        "noa = ['Normalized Accuracy']\n",
        "nnaw = ['Non-Normalized Weighted Accuracy']\n",
        "noaw = ['Normalized Weighted Accuracy']\n",
        "\n",
        "nna.extend(non_normal_acc)\n",
        "noa.extend(normal_acc)\n",
        "nnaw.extend(non_normal_acc_weighted)\n",
        "noaw.extend(normal_acc_weighted)\n",
        "results_dataframe = pd.DataFrame([nna, noa, nnaw, noaw], columns=['Category','k=1', 'k=3', 'k=5', 'k=7', 'k=9'])\n",
        "results_dataframe.set_index('Category', inplace=True)"
      ],
      "execution_count": 22,
      "outputs": []
    },
    {
      "cell_type": "markdown",
      "metadata": {
        "id": "xJqnLTh6gJKo"
      },
      "source": [
        "#### **Comment on Misclassified Samples**\n",
        "\n",
        "\n",
        "\n",
        "\n",
        "![1-knn.png](data:image/png;base64,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)\n",
        "\n",
        "**Table1.1-NN misclassified sample (without feature normalization and uniform weighted)**\n",
        "\n",
        "\n",
        "\n",
        "![9-knn weighted normalised- bütün train aynı.png](data:image/png;base64,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)\n",
        "\n",
        "**Table2. 9-NN misclassified sample (with feature normalization and weighted)**\n",
        "\n",
        "\n",
        "\n",
        "![3-knn weighted norm hepsi farklı.png](data:image/png;base64,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)\n",
        "\n",
        "**Table3. 3-NN misclassified sample (with feature normalization and weighted)**\n",
        "\n"
      ]
    },
    {
      "cell_type": "markdown",
      "metadata": {
        "id": "A1yKUR7Egnq2"
      },
      "source": [
        "We get the highest accuracy rate less than %75 from the one nearest classifier. From our point of view this is not a very satisfactory result. One of the reason of misclassification may be the insufficient number of data set because, while the size of training data set approaches infinity, the one nearest neighbor classifier converges to the minimum error rate. If we take a look at the table 2, we see that all neighbors belong to the same class. It may have two meaning, one of them is our data set doesn’t contain enough number of samples from all classes. The second one is to shuffle the data set before the training may have caused to obtain non-homogenious training data in terms of class distribution. Lastly, if we take a look at table 3, we see that all neighbors belong to different classes which strenghtens the possibility of the chosen k value is not optimal."
      ]
    },
    {
      "cell_type": "markdown",
      "metadata": {
        "id": "PQA8Wic6tm8Y"
      },
      "source": [
        "#### **Comparison of Performances of Different Features and Normalizations**"
      ]
    },
    {
      "cell_type": "markdown",
      "metadata": {
        "id": "uuNvTHixBEMz"
      },
      "source": [
        "Below we can see our accuracy results between different \"k\" values and Normalize/Weighted categories after k-fold averaging.\n",
        "\n",
        "Firstly, we can clearly see that Non-Normalized values gave us better results regardless of whether they are weighted or not. This fact points us towards our dataset having clearly extremely important parameters that which our target parameter is heavily dependent on and that, by luck, already have a higher absolute number and distances between them, increasing their importance greatly in a non-normalized euclidean metric. If these important parameter were instead in possesion of smaller values than other parameters; we, instead, would have seen a clearly lower accuracies when non-normalized. These are because normalization essentially makes each and every parameter equal in importance when calculating their distances. While this will work greatly when each parameter is equally important, or, in a lesser degree, when important parameters have smaller absolute values and differences between them; it will work a lot worse when the most important parameters already have the highest absolute distances between eachother, thus helping the euclidean distance measurement by simple luck. From our results, this seems to be the most likely reason as to why normalization causes such a result. As a plus, while we didn't put it inside our report, as we didn't know if it is permitted, we tried our code with different datasets and problems in our tests, to make sure we didn't made anything wrong. And our results in those experiments showed us that our guesses were correct: in different datasets, normalized values can give better results than non-normalized ones depending on their composition.\n",
        "\n",
        "Secondly, we can see that in Non-Normalized tests, regardless of weight status, \"k=1\" gives the best result and as k values rise, the accuracy inevitably falls. This, again, is most likely because of the dataset we were given. It is possible that our Classes that we are trying to predict are too distinctive in their attributes which results in higher correctness when comparing their clossest neighbors only and worsens as we increase our neighbor count. It is also possible that this comes from the fact that our training and test datasets being similar when comparing between them, which results in a counterpart in training datasets whenever k=1 but falls to lower levels when k becomes larger and neighbors become more different and more important. This last guess, in theory, means that we may not see this result in different shuffles as training and test datasets change accordingly or if we increase our dataset amount as less dataset inevitably results in more distinctive classes and a higher degree of error resulting in bad/good luck only, and thus becomes based more and more on chance.\n",
        "\n",
        "Thirdly, we can see that Weighted models' accuracy is slightly better than their Non-Weighted counterparts. (Also worth pointing out the 'k=1' test inevitably result in identical results between Weighted/Weightless models, which is to be expected as weights don't matter when k=1.). This slight increase in efficiency is most likely because weights adds another layer of importance to similarity between items, beyond only neighbors. This fact of an increase in similarity equating to an increase in correctness is completely rational and is to be expected. Which this observations supports and proves.\n",
        "\n",
        "Fourthly, we can see that; for normalized tests (and non-normal as well in different datasets), k amounts usually become most efficent when they are between 3 and 7 i.e. in pretty low numbers. This most likely stems from our training set's amount being few, since, as the training set's amount increases, it is expected that the localization of neighbors increase which skews our results when k amount is too low. But for a training set of the sizes that we use, it is completely logical that their most efficent \"k\"s be small numbers such as 3,5,7.\n"
      ]
    },
    {
      "cell_type": "code",
      "metadata": {
        "colab": {
          "base_uri": "https://localhost:8080/",
          "height": 203
        },
        "id": "YJiwijvDArrM",
        "outputId": "1301d37c-de8d-4855-8d26-7f3e8cd34e8d"
      },
      "source": [
        "results_dataframe"
      ],
      "execution_count": 23,
      "outputs": [
        {
          "output_type": "execute_result",
          "data": {
            "text/html": [
              "<div>\n",
              "<style scoped>\n",
              "    .dataframe tbody tr th:only-of-type {\n",
              "        vertical-align: middle;\n",
              "    }\n",
              "\n",
              "    .dataframe tbody tr th {\n",
              "        vertical-align: top;\n",
              "    }\n",
              "\n",
              "    .dataframe thead th {\n",
              "        text-align: right;\n",
              "    }\n",
              "</style>\n",
              "<table border=\"1\" class=\"dataframe\">\n",
              "  <thead>\n",
              "    <tr style=\"text-align: right;\">\n",
              "      <th></th>\n",
              "      <th>k=1</th>\n",
              "      <th>k=3</th>\n",
              "      <th>k=5</th>\n",
              "      <th>k=7</th>\n",
              "      <th>k=9</th>\n",
              "    </tr>\n",
              "    <tr>\n",
              "      <th>Category</th>\n",
              "      <th></th>\n",
              "      <th></th>\n",
              "      <th></th>\n",
              "      <th></th>\n",
              "      <th></th>\n",
              "    </tr>\n",
              "  </thead>\n",
              "  <tbody>\n",
              "    <tr>\n",
              "      <th>Non-Normalized Accuracy</th>\n",
              "      <td>73.344408</td>\n",
              "      <td>67.751938</td>\n",
              "      <td>65.902547</td>\n",
              "      <td>65.437431</td>\n",
              "      <td>61.229236</td>\n",
              "    </tr>\n",
              "    <tr>\n",
              "      <th>Normalized Accuracy</th>\n",
              "      <td>58.914729</td>\n",
              "      <td>61.638981</td>\n",
              "      <td>57.486157</td>\n",
              "      <td>58.427464</td>\n",
              "      <td>57.043189</td>\n",
              "    </tr>\n",
              "    <tr>\n",
              "      <th>Non-Normalized Weighted Accuracy</th>\n",
              "      <td>73.344408</td>\n",
              "      <td>70.077519</td>\n",
              "      <td>71.018826</td>\n",
              "      <td>69.147287</td>\n",
              "      <td>67.275748</td>\n",
              "    </tr>\n",
              "    <tr>\n",
              "      <th>Normalized Weighted Accuracy</th>\n",
              "      <td>58.914729</td>\n",
              "      <td>61.661130</td>\n",
              "      <td>59.822813</td>\n",
              "      <td>59.822813</td>\n",
              "      <td>57.984496</td>\n",
              "    </tr>\n",
              "  </tbody>\n",
              "</table>\n",
              "</div>"
            ],
            "text/plain": [
              "                                        k=1        k=3  ...        k=7        k=9\n",
              "Category                                                ...                      \n",
              "Non-Normalized Accuracy           73.344408  67.751938  ...  65.437431  61.229236\n",
              "Normalized Accuracy               58.914729  61.638981  ...  58.427464  57.043189\n",
              "Non-Normalized Weighted Accuracy  73.344408  70.077519  ...  69.147287  67.275748\n",
              "Normalized Weighted Accuracy      58.914729  61.661130  ...  59.822813  57.984496\n",
              "\n",
              "[4 rows x 5 columns]"
            ]
          },
          "metadata": {},
          "execution_count": 23
        }
      ]
    },
    {
      "cell_type": "markdown",
      "metadata": {
        "id": "cMQud9H0xxy-"
      },
      "source": [
        "#### **Speed Discussion**"
      ]
    },
    {
      "cell_type": "markdown",
      "metadata": {
        "id": "TTQ9HqbyXMGR"
      },
      "source": [
        "Lastly, from our tests we came to the conclusion of the fact that testing and predicting slows down extremely when we get a larger training set or larger test set or both. This is because, to calculate distance between attribute vectors, or even to compare our prediction with the true results, we essentially have to calculate them over each and every training data we have with each and every test data we have, which reaches O(mn) complexity easily. This results in a dramatic increase in time spent whenever one of the datasets increase even moderately. As a result, we can say that this KNN algorithm that we use is highly inefficent when it comes to timing."
      ]
    },
    {
      "cell_type": "markdown",
      "metadata": {
        "id": "gRc0kVXW3OjM"
      },
      "source": [
        "## Part 2"
      ]
    },
    {
      "cell_type": "markdown",
      "metadata": {
        "id": "aE3-nnXAr9pQ"
      },
      "source": [
        "In the second part, we will work on a Regression problem by creating and using a hand-made KNN Regression algorithm. Our objective is to predict the strength of concrete based on its building materials, guessing that it is possible to do so correctly."
      ]
    },
    {
      "cell_type": "markdown",
      "metadata": {
        "id": "uttvnE9GuazE"
      },
      "source": [
        "### Read csv file into DataFrame"
      ]
    },
    {
      "cell_type": "code",
      "metadata": {
        "id": "LiyrKAdg8ssD"
      },
      "source": [
        "df_2 = pd.read_csv('/drive/My Drive/Colab Notebooks/BBM409-Assignment-1/Concrete_Data_Yeh.csv') # read csv file part2"
      ],
      "execution_count": 24,
      "outputs": []
    },
    {
      "cell_type": "markdown",
      "metadata": {
        "id": "xG6VaTu0ueIo"
      },
      "source": [
        "Below, We can see our dataset which describes the building blocks of some concrete along with that concrete's strength. With our wish of possibly predicting strength of some concrete from their attributes we will use this dataset that have been provided to us. The dataset includes within itself 1030 rows and 9 columns. One of the columns, namely, ***csMPa***  is our target output and the rest, 8 columns, are our attributes that will be used as our predictive features."
      ]
    },
    {
      "cell_type": "code",
      "metadata": {
        "id": "H7-usk3P1b59",
        "colab": {
          "base_uri": "https://localhost:8080/",
          "height": 417
        },
        "outputId": "73805d36-cb9f-4cfe-a63b-04842e6273f9"
      },
      "source": [
        "df_2"
      ],
      "execution_count": 25,
      "outputs": [
        {
          "output_type": "execute_result",
          "data": {
            "text/html": [
              "<div>\n",
              "<style scoped>\n",
              "    .dataframe tbody tr th:only-of-type {\n",
              "        vertical-align: middle;\n",
              "    }\n",
              "\n",
              "    .dataframe tbody tr th {\n",
              "        vertical-align: top;\n",
              "    }\n",
              "\n",
              "    .dataframe thead th {\n",
              "        text-align: right;\n",
              "    }\n",
              "</style>\n",
              "<table border=\"1\" class=\"dataframe\">\n",
              "  <thead>\n",
              "    <tr style=\"text-align: right;\">\n",
              "      <th></th>\n",
              "      <th>cement</th>\n",
              "      <th>slag</th>\n",
              "      <th>flyash</th>\n",
              "      <th>water</th>\n",
              "      <th>superplasticizer</th>\n",
              "      <th>coarseaggregate</th>\n",
              "      <th>fineaggregate</th>\n",
              "      <th>age</th>\n",
              "      <th>csMPa</th>\n",
              "    </tr>\n",
              "  </thead>\n",
              "  <tbody>\n",
              "    <tr>\n",
              "      <th>0</th>\n",
              "      <td>540.0</td>\n",
              "      <td>0.0</td>\n",
              "      <td>0.0</td>\n",
              "      <td>162.0</td>\n",
              "      <td>2.5</td>\n",
              "      <td>1040.0</td>\n",
              "      <td>676.0</td>\n",
              "      <td>28</td>\n",
              "      <td>79.99</td>\n",
              "    </tr>\n",
              "    <tr>\n",
              "      <th>1</th>\n",
              "      <td>540.0</td>\n",
              "      <td>0.0</td>\n",
              "      <td>0.0</td>\n",
              "      <td>162.0</td>\n",
              "      <td>2.5</td>\n",
              "      <td>1055.0</td>\n",
              "      <td>676.0</td>\n",
              "      <td>28</td>\n",
              "      <td>61.89</td>\n",
              "    </tr>\n",
              "    <tr>\n",
              "      <th>2</th>\n",
              "      <td>332.5</td>\n",
              "      <td>142.5</td>\n",
              "      <td>0.0</td>\n",
              "      <td>228.0</td>\n",
              "      <td>0.0</td>\n",
              "      <td>932.0</td>\n",
              "      <td>594.0</td>\n",
              "      <td>270</td>\n",
              "      <td>40.27</td>\n",
              "    </tr>\n",
              "    <tr>\n",
              "      <th>3</th>\n",
              "      <td>332.5</td>\n",
              "      <td>142.5</td>\n",
              "      <td>0.0</td>\n",
              "      <td>228.0</td>\n",
              "      <td>0.0</td>\n",
              "      <td>932.0</td>\n",
              "      <td>594.0</td>\n",
              "      <td>365</td>\n",
              "      <td>41.05</td>\n",
              "    </tr>\n",
              "    <tr>\n",
              "      <th>4</th>\n",
              "      <td>198.6</td>\n",
              "      <td>132.4</td>\n",
              "      <td>0.0</td>\n",
              "      <td>192.0</td>\n",
              "      <td>0.0</td>\n",
              "      <td>978.4</td>\n",
              "      <td>825.5</td>\n",
              "      <td>360</td>\n",
              "      <td>44.30</td>\n",
              "    </tr>\n",
              "    <tr>\n",
              "      <th>...</th>\n",
              "      <td>...</td>\n",
              "      <td>...</td>\n",
              "      <td>...</td>\n",
              "      <td>...</td>\n",
              "      <td>...</td>\n",
              "      <td>...</td>\n",
              "      <td>...</td>\n",
              "      <td>...</td>\n",
              "      <td>...</td>\n",
              "    </tr>\n",
              "    <tr>\n",
              "      <th>1025</th>\n",
              "      <td>276.4</td>\n",
              "      <td>116.0</td>\n",
              "      <td>90.3</td>\n",
              "      <td>179.6</td>\n",
              "      <td>8.9</td>\n",
              "      <td>870.1</td>\n",
              "      <td>768.3</td>\n",
              "      <td>28</td>\n",
              "      <td>44.28</td>\n",
              "    </tr>\n",
              "    <tr>\n",
              "      <th>1026</th>\n",
              "      <td>322.2</td>\n",
              "      <td>0.0</td>\n",
              "      <td>115.6</td>\n",
              "      <td>196.0</td>\n",
              "      <td>10.4</td>\n",
              "      <td>817.9</td>\n",
              "      <td>813.4</td>\n",
              "      <td>28</td>\n",
              "      <td>31.18</td>\n",
              "    </tr>\n",
              "    <tr>\n",
              "      <th>1027</th>\n",
              "      <td>148.5</td>\n",
              "      <td>139.4</td>\n",
              "      <td>108.6</td>\n",
              "      <td>192.7</td>\n",
              "      <td>6.1</td>\n",
              "      <td>892.4</td>\n",
              "      <td>780.0</td>\n",
              "      <td>28</td>\n",
              "      <td>23.70</td>\n",
              "    </tr>\n",
              "    <tr>\n",
              "      <th>1028</th>\n",
              "      <td>159.1</td>\n",
              "      <td>186.7</td>\n",
              "      <td>0.0</td>\n",
              "      <td>175.6</td>\n",
              "      <td>11.3</td>\n",
              "      <td>989.6</td>\n",
              "      <td>788.9</td>\n",
              "      <td>28</td>\n",
              "      <td>32.77</td>\n",
              "    </tr>\n",
              "    <tr>\n",
              "      <th>1029</th>\n",
              "      <td>260.9</td>\n",
              "      <td>100.5</td>\n",
              "      <td>78.3</td>\n",
              "      <td>200.6</td>\n",
              "      <td>8.6</td>\n",
              "      <td>864.5</td>\n",
              "      <td>761.5</td>\n",
              "      <td>28</td>\n",
              "      <td>32.40</td>\n",
              "    </tr>\n",
              "  </tbody>\n",
              "</table>\n",
              "<p>1030 rows × 9 columns</p>\n",
              "</div>"
            ],
            "text/plain": [
              "      cement   slag  flyash  water  ...  coarseaggregate  fineaggregate  age  csMPa\n",
              "0      540.0    0.0     0.0  162.0  ...           1040.0          676.0   28  79.99\n",
              "1      540.0    0.0     0.0  162.0  ...           1055.0          676.0   28  61.89\n",
              "2      332.5  142.5     0.0  228.0  ...            932.0          594.0  270  40.27\n",
              "3      332.5  142.5     0.0  228.0  ...            932.0          594.0  365  41.05\n",
              "4      198.6  132.4     0.0  192.0  ...            978.4          825.5  360  44.30\n",
              "...      ...    ...     ...    ...  ...              ...            ...  ...    ...\n",
              "1025   276.4  116.0    90.3  179.6  ...            870.1          768.3   28  44.28\n",
              "1026   322.2    0.0   115.6  196.0  ...            817.9          813.4   28  31.18\n",
              "1027   148.5  139.4   108.6  192.7  ...            892.4          780.0   28  23.70\n",
              "1028   159.1  186.7     0.0  175.6  ...            989.6          788.9   28  32.77\n",
              "1029   260.9  100.5    78.3  200.6  ...            864.5          761.5   28  32.40\n",
              "\n",
              "[1030 rows x 9 columns]"
            ]
          },
          "metadata": {},
          "execution_count": 25
        }
      ]
    },
    {
      "cell_type": "markdown",
      "metadata": {
        "id": "1LzT5GAyu_Tu"
      },
      "source": [
        "Below we can see a simple description of our dataset. Some interesting outtakes we can get are:\n",
        "\n",
        "*   How our Target parameter turned out to be pretty uniform in its composition as its mean and median (i.e. 50%) can be seen to be extremely close with respect to its standard deviation. \n",
        "*   We can also see that \"flyash\" parameter is 0 at least half the time, which will, most likely, skew the predictions from time to time."
      ]
    },
    {
      "cell_type": "code",
      "metadata": {
        "colab": {
          "base_uri": "https://localhost:8080/",
          "height": 295
        },
        "id": "OqV6Jhpvu9F_",
        "outputId": "e260de04-2e18-462d-9054-5237a9443748"
      },
      "source": [
        "df_2.describe()"
      ],
      "execution_count": 26,
      "outputs": [
        {
          "output_type": "execute_result",
          "data": {
            "text/html": [
              "<div>\n",
              "<style scoped>\n",
              "    .dataframe tbody tr th:only-of-type {\n",
              "        vertical-align: middle;\n",
              "    }\n",
              "\n",
              "    .dataframe tbody tr th {\n",
              "        vertical-align: top;\n",
              "    }\n",
              "\n",
              "    .dataframe thead th {\n",
              "        text-align: right;\n",
              "    }\n",
              "</style>\n",
              "<table border=\"1\" class=\"dataframe\">\n",
              "  <thead>\n",
              "    <tr style=\"text-align: right;\">\n",
              "      <th></th>\n",
              "      <th>cement</th>\n",
              "      <th>slag</th>\n",
              "      <th>flyash</th>\n",
              "      <th>water</th>\n",
              "      <th>superplasticizer</th>\n",
              "      <th>coarseaggregate</th>\n",
              "      <th>fineaggregate</th>\n",
              "      <th>age</th>\n",
              "      <th>csMPa</th>\n",
              "    </tr>\n",
              "  </thead>\n",
              "  <tbody>\n",
              "    <tr>\n",
              "      <th>count</th>\n",
              "      <td>1030.000000</td>\n",
              "      <td>1030.000000</td>\n",
              "      <td>1030.000000</td>\n",
              "      <td>1030.000000</td>\n",
              "      <td>1030.000000</td>\n",
              "      <td>1030.000000</td>\n",
              "      <td>1030.000000</td>\n",
              "      <td>1030.000000</td>\n",
              "      <td>1030.000000</td>\n",
              "    </tr>\n",
              "    <tr>\n",
              "      <th>mean</th>\n",
              "      <td>281.167864</td>\n",
              "      <td>73.895825</td>\n",
              "      <td>54.188350</td>\n",
              "      <td>181.567282</td>\n",
              "      <td>6.204660</td>\n",
              "      <td>972.918932</td>\n",
              "      <td>773.580485</td>\n",
              "      <td>45.662136</td>\n",
              "      <td>35.817961</td>\n",
              "    </tr>\n",
              "    <tr>\n",
              "      <th>std</th>\n",
              "      <td>104.506364</td>\n",
              "      <td>86.279342</td>\n",
              "      <td>63.997004</td>\n",
              "      <td>21.354219</td>\n",
              "      <td>5.973841</td>\n",
              "      <td>77.753954</td>\n",
              "      <td>80.175980</td>\n",
              "      <td>63.169912</td>\n",
              "      <td>16.705742</td>\n",
              "    </tr>\n",
              "    <tr>\n",
              "      <th>min</th>\n",
              "      <td>102.000000</td>\n",
              "      <td>0.000000</td>\n",
              "      <td>0.000000</td>\n",
              "      <td>121.800000</td>\n",
              "      <td>0.000000</td>\n",
              "      <td>801.000000</td>\n",
              "      <td>594.000000</td>\n",
              "      <td>1.000000</td>\n",
              "      <td>2.330000</td>\n",
              "    </tr>\n",
              "    <tr>\n",
              "      <th>25%</th>\n",
              "      <td>192.375000</td>\n",
              "      <td>0.000000</td>\n",
              "      <td>0.000000</td>\n",
              "      <td>164.900000</td>\n",
              "      <td>0.000000</td>\n",
              "      <td>932.000000</td>\n",
              "      <td>730.950000</td>\n",
              "      <td>7.000000</td>\n",
              "      <td>23.710000</td>\n",
              "    </tr>\n",
              "    <tr>\n",
              "      <th>50%</th>\n",
              "      <td>272.900000</td>\n",
              "      <td>22.000000</td>\n",
              "      <td>0.000000</td>\n",
              "      <td>185.000000</td>\n",
              "      <td>6.400000</td>\n",
              "      <td>968.000000</td>\n",
              "      <td>779.500000</td>\n",
              "      <td>28.000000</td>\n",
              "      <td>34.445000</td>\n",
              "    </tr>\n",
              "    <tr>\n",
              "      <th>75%</th>\n",
              "      <td>350.000000</td>\n",
              "      <td>142.950000</td>\n",
              "      <td>118.300000</td>\n",
              "      <td>192.000000</td>\n",
              "      <td>10.200000</td>\n",
              "      <td>1029.400000</td>\n",
              "      <td>824.000000</td>\n",
              "      <td>56.000000</td>\n",
              "      <td>46.135000</td>\n",
              "    </tr>\n",
              "    <tr>\n",
              "      <th>max</th>\n",
              "      <td>540.000000</td>\n",
              "      <td>359.400000</td>\n",
              "      <td>200.100000</td>\n",
              "      <td>247.000000</td>\n",
              "      <td>32.200000</td>\n",
              "      <td>1145.000000</td>\n",
              "      <td>992.600000</td>\n",
              "      <td>365.000000</td>\n",
              "      <td>82.600000</td>\n",
              "    </tr>\n",
              "  </tbody>\n",
              "</table>\n",
              "</div>"
            ],
            "text/plain": [
              "            cement         slag  ...          age        csMPa\n",
              "count  1030.000000  1030.000000  ...  1030.000000  1030.000000\n",
              "mean    281.167864    73.895825  ...    45.662136    35.817961\n",
              "std     104.506364    86.279342  ...    63.169912    16.705742\n",
              "min     102.000000     0.000000  ...     1.000000     2.330000\n",
              "25%     192.375000     0.000000  ...     7.000000    23.710000\n",
              "50%     272.900000    22.000000  ...    28.000000    34.445000\n",
              "75%     350.000000   142.950000  ...    56.000000    46.135000\n",
              "max     540.000000   359.400000  ...   365.000000    82.600000\n",
              "\n",
              "[8 rows x 9 columns]"
            ]
          },
          "metadata": {},
          "execution_count": 26
        }
      ]
    },
    {
      "cell_type": "markdown",
      "metadata": {
        "id": "7zZlKyoW20GF"
      },
      "source": [
        "Convert the DataFrame to a NumPy array for future use. Then shuffle the new array so that we may work with a degree of certainty of our dataset being uniformly distributed instead of clustered between type differences that may skew our predictions and testing."
      ]
    },
    {
      "cell_type": "code",
      "metadata": {
        "id": "z1gzogAh0gX_"
      },
      "source": [
        "df_arr_2 = df_2.to_numpy() #Create a numpy array of our dataset\n",
        "\n",
        "#Copy the new array first before shuffling so as to easily reach the original array in the future if need be\n",
        "shuffled_arr_2 = df_arr_2.copy() \n",
        "\n",
        "np.random.shuffle(shuffled_arr_2) #Shuffle the array"
      ],
      "execution_count": 27,
      "outputs": []
    },
    {
      "cell_type": "markdown",
      "metadata": {
        "id": "hCY8_ZzA3CjO"
      },
      "source": [
        "### Mean Absolute Error Metric\n",
        "Calculates and returns the mean absolute error between our regressed predictions and our true targets as our overall error within a single particular pair of training and test sets."
      ]
    },
    {
      "cell_type": "code",
      "metadata": {
        "id": "k1khdpwn3Yvx"
      },
      "source": [
        "#Mean Absolute Error which calculates the mean of all |predicted - actual|\n",
        "def mae(actual,predicted):\n",
        "  size = actual.shape\n",
        "  substracted = np.abs(np.subtract(actual,predicted))\n",
        "  return float (np.sum(substracted)/size)"
      ],
      "execution_count": 28,
      "outputs": []
    },
    {
      "cell_type": "markdown",
      "metadata": {
        "id": "dCtJOJ3u3rIG"
      },
      "source": [
        "### K-Nearest-Neigbors Regressor\n",
        "\n",
        "Class of KNN Regressor. Since we can use more or less the same methods between Classification and Regression, we have created KNNRegression Class as a child of KNNClassifier as way of lessening code duplication. It has the same methods as the Classifier with a single exception. That being overwriting of single_predict() method."
      ]
    },
    {
      "cell_type": "markdown",
      "metadata": {
        "id": "tXQEOacG4YQs"
      },
      "source": [
        "#### Methods:\n",
        "\n",
        "&emsp; **single_predict:** Predicts a single full attribute vector's output target and returns the prediction. Works differently depending on whether our KNN calculation will be weighted or not."
      ]
    },
    {
      "cell_type": "code",
      "metadata": {
        "id": "ixyw_EI8ulzJ"
      },
      "source": [
        "class KNNRegression(KNNClassifier):\n",
        "  # predict a continuous outcome by using KNN regression.\n",
        "  def single_predict(self, sample_to_predict):\n",
        "    neighbors_indices, neighbors_distances = self.get_k_neighbors(sample_to_predict)\n",
        "    output_values = self.trained_target[neighbors_indices]\n",
        "    if self.is_weighted:\n",
        "      reci_neighbors_distances= np.reciprocal(neighbors_distances)\n",
        "      sum_of_weights = np.sum(reci_neighbors_distances)\n",
        "      prediction = np.sum(np.multiply(output_values, reci_neighbors_distances))\n",
        "      return prediction/sum_of_weights\n",
        "    else: \n",
        "      prediction = np.average(output_values)\n",
        "      return prediction"
      ],
      "execution_count": 29,
      "outputs": []
    },
    {
      "cell_type": "markdown",
      "metadata": {
        "id": "5HDlRyo3uABi"
      },
      "source": [
        "## Testing Of Different"
      ]
    },
    {
      "cell_type": "markdown",
      "metadata": {
        "id": "os3RiHGIuBbR"
      },
      "source": [
        "### KNN-Regression Tests"
      ]
    },
    {
      "cell_type": "markdown",
      "metadata": {
        "id": "kvotw6I4uIea"
      },
      "source": [
        "#### Non-Normalised Test"
      ]
    },
    {
      "cell_type": "code",
      "metadata": {
        "id": "EAK1dBq_t2dr"
      },
      "source": [
        "non_normal_mae = tester(shuffled_arr_2, 5, isNormalised=False, isWeighted=False, k_neighbors_to_test=[1,3,5,7,9], isRegression=True)"
      ],
      "execution_count": 30,
      "outputs": []
    },
    {
      "cell_type": "code",
      "metadata": {
        "colab": {
          "base_uri": "https://localhost:8080/"
        },
        "id": "XgVdqrWSvtN_",
        "outputId": "9513b0de-6f30-4a8f-d296-17536d7e9f5b"
      },
      "source": [
        "print(non_normal_mae)"
      ],
      "execution_count": 31,
      "outputs": [
        {
          "output_type": "stream",
          "name": "stdout",
          "text": [
            "[6.214436893203883, 6.590077669902913, 6.957299029126214, 7.072973647711512, 7.324982740021575]\n"
          ]
        }
      ]
    },
    {
      "cell_type": "markdown",
      "metadata": {
        "id": "Y35K_ukuuKdq"
      },
      "source": [
        "#### Normalised Test"
      ]
    },
    {
      "cell_type": "code",
      "metadata": {
        "id": "BXeig2JMt2gR"
      },
      "source": [
        "normal_mae = tester(shuffled_arr_2, 5, isNormalised=True, isWeighted=False, k_neighbors_to_test=[1,3,5,7,9], isRegression=True)"
      ],
      "execution_count": 32,
      "outputs": []
    },
    {
      "cell_type": "code",
      "metadata": {
        "colab": {
          "base_uri": "https://localhost:8080/"
        },
        "id": "2nWIZI3UvsGn",
        "outputId": "8e62b7e2-53bb-4f16-f5c1-ea3c8e1acc06"
      },
      "source": [
        "print(normal_mae)"
      ],
      "execution_count": 33,
      "outputs": [
        {
          "output_type": "stream",
          "name": "stdout",
          "text": [
            "[6.5319611650485445, 6.7354012944983825, 7.1279514563106785, 7.341382801664355, 7.555941747572815]\n"
          ]
        }
      ]
    },
    {
      "cell_type": "markdown",
      "metadata": {
        "id": "FKlMB040uL5T"
      },
      "source": [
        "### Weighted KNN-Regression Tests"
      ]
    },
    {
      "cell_type": "markdown",
      "metadata": {
        "id": "d-Adm7k0uQPB"
      },
      "source": [
        "#### Non-Normalised Test"
      ]
    },
    {
      "cell_type": "code",
      "metadata": {
        "id": "O7gRTeaXcRuP"
      },
      "source": [
        "non_normal_mae_weighted = tester(shuffled_arr_2, 5, isNormalised=False, isWeighted=True, k_neighbors_to_test=[1,3,5,7,9], isRegression=True)"
      ],
      "execution_count": 34,
      "outputs": []
    },
    {
      "cell_type": "code",
      "metadata": {
        "colab": {
          "base_uri": "https://localhost:8080/"
        },
        "id": "uc0lfgI4vuyN",
        "outputId": "54cba2d2-c23c-4078-a9c9-f9f037f26b46"
      },
      "source": [
        "print(non_normal_mae_weighted)"
      ],
      "execution_count": 35,
      "outputs": [
        {
          "output_type": "stream",
          "name": "stdout",
          "text": [
            "[6.214436893203883, 5.444172290918851, 5.473276130538897, 5.489625700500587, 5.578038061309177]\n"
          ]
        }
      ]
    },
    {
      "cell_type": "markdown",
      "metadata": {
        "id": "jGe1bZ9SuR_y"
      },
      "source": [
        "#### Normalised Test"
      ]
    },
    {
      "cell_type": "code",
      "metadata": {
        "id": "6IBPSSZMkJoi"
      },
      "source": [
        "normal_mae_weighted = tester(shuffled_arr_2, 5, isNormalised=True, isWeighted=True, k_neighbors_to_test=[1,3,5,7,9], isRegression=True)"
      ],
      "execution_count": 36,
      "outputs": []
    },
    {
      "cell_type": "code",
      "metadata": {
        "colab": {
          "base_uri": "https://localhost:8080/"
        },
        "id": "iViLBYFAvv-9",
        "outputId": "074a8360-47ad-4c3f-8929-c07c25dfc3d0"
      },
      "source": [
        "print(normal_mae_weighted)"
      ],
      "execution_count": 37,
      "outputs": [
        {
          "output_type": "stream",
          "name": "stdout",
          "text": [
            "[6.5319611650485445, 6.387152703787644, 6.74254188902007, 6.865780545362784, 7.0455008315517915]\n"
          ]
        }
      ]
    },
    {
      "cell_type": "markdown",
      "metadata": {
        "id": "nMD7RCAlvNxe"
      },
      "source": [
        "### Graphs of Results"
      ]
    },
    {
      "cell_type": "markdown",
      "metadata": {
        "id": "sjqtI9gDvSae"
      },
      "source": [
        "Below we can see the graphs of our resulting tests for all four of our testing categories. First graph shows all four categories side by side, to show an overall picture of their standings. The second and third graphs represent non-weighted and weighted results respectively. In all graphs, the y-dimension constitutes our overall mean absolute error while the x-dimension constitutes the different \"k\" values such as 1, 3, 5, 7 and 9. Our overall discussion regarding their standing, however, will be made in the Error Analysis section."
      ]
    },
    {
      "cell_type": "code",
      "metadata": {
        "id": "ZIRTUZZkkhzK",
        "colab": {
          "base_uri": "https://localhost:8080/",
          "height": 312
        },
        "outputId": "e31dc739-12c1-4711-d921-f7434c7d70e7"
      },
      "source": [
        "plt.plot(range(1, 10, 2), non_normal_mae, 'o', label='Non-Normalized Mean Absolute Error', color='black')\n",
        "plt.plot(range(1, 10, 2), normal_mae, 'o', label='Normalized Mean Absolute Error', color='red')\n",
        "plt.plot(range(1, 10, 2), non_normal_mae_weighted, 'o', label='Weighted Non-Normalized Mean Absolute Error', color='blue')\n",
        "plt.plot(range(1, 10, 2), normal_mae_weighted, 'o', label='Weighted Normalized Mean Absolute Error', color='green')\n",
        "plt.xlabel('K (Number)')\n",
        "plt.ylabel('Mean Absolute Error')\n",
        "plt.title(\"All Overall Mean Absolute Errors\")\n",
        "plt.legend()"
      ],
      "execution_count": 38,
      "outputs": [
        {
          "output_type": "execute_result",
          "data": {
            "text/plain": [
              "<matplotlib.legend.Legend at 0x7f8356e22f90>"
            ]
          },
          "metadata": {},
          "execution_count": 38
        },
        {
          "output_type": "display_data",
          "data": {
            "image/png": "[encoded data removed]",
            "text/plain": [
              "<Figure size 432x288 with 1 Axes>"
            ]
          },
          "metadata": {
            "needs_background": "light"
          }
        }
      ]
    },
    {
      "cell_type": "code",
      "metadata": {
        "colab": {
          "base_uri": "https://localhost:8080/",
          "height": 312
        },
        "id": "qOpTzOfaaNk4",
        "outputId": "c21cbe0c-0438-4b87-df78-87ccf3b0dce1"
      },
      "source": [
        "#Graph without legend as it masks some data in the previous cell\n",
        "plt.plot(range(1, 10, 2), non_normal_mae, 'o', label='Non-Normalized Mean Absolute Error', color='black')\n",
        "plt.plot(range(1, 10, 2), normal_mae, 'o', label='Normalized Mean Absolute Error', color='red')\n",
        "plt.plot(range(1, 10, 2), non_normal_mae_weighted, 'o', label='Weighted Non-Normalized Mean Absolute Error', color='blue')\n",
        "plt.plot(range(1, 10, 2), normal_mae_weighted, 'o', label='Weighted Normalized Mean Absolute Error', color='green')\n",
        "plt.xlabel('K (Number)')\n",
        "plt.ylabel('Mean Absolute Error')\n",
        "plt.title(\"All Overall Mean Absolute Errors\")"
      ],
      "execution_count": 39,
      "outputs": [
        {
          "output_type": "execute_result",
          "data": {
            "text/plain": [
              "Text(0.5, 1.0, 'All Overall Mean Absolute Errors')"
            ]
          },
          "metadata": {},
          "execution_count": 39
        },
        {
          "output_type": "display_data",
          "data": {
            "image/png": "[encoded data removed]",
            "text/plain": [
              "<Figure size 432x288 with 1 Axes>"
            ]
          },
          "metadata": {
            "needs_background": "light"
          }
        }
      ]
    },
    {
      "cell_type": "code",
      "metadata": {
        "id": "_6MLt1Jwuntr",
        "colab": {
          "base_uri": "https://localhost:8080/",
          "height": 312
        },
        "outputId": "dfcd072a-b1b8-42d8-a062-35dd4a518eb3"
      },
      "source": [
        "plt.plot(range(1, 10, 2), non_normal_mae, 'o', label='Non-Normalized Mean Absolute Error', color='black')\n",
        "plt.plot(range(1, 10, 2), normal_mae, 'o', label='Normalized Mean Absolute Error', color='red')\n",
        "plt.xlabel('K (Number)')\n",
        "plt.ylabel('Mean Absolute Error')\n",
        "plt.title(\"Overall Mean Absolute Errors without Weights\")\n",
        "plt.legend()"
      ],
      "execution_count": 40,
      "outputs": [
        {
          "output_type": "execute_result",
          "data": {
            "text/plain": [
              "<matplotlib.legend.Legend at 0x7f8356d308d0>"
            ]
          },
          "metadata": {},
          "execution_count": 40
        },
        {
          "output_type": "display_data",
          "data": {
            "image/png": "[encoded data removed]",
            "text/plain": [
              "<Figure size 432x288 with 1 Axes>"
            ]
          },
          "metadata": {
            "needs_background": "light"
          }
        }
      ]
    },
    {
      "cell_type": "code",
      "metadata": {
        "id": "3i1_jOmVun5C",
        "colab": {
          "base_uri": "https://localhost:8080/",
          "height": 312
        },
        "outputId": "58eef197-ae9f-4440-c770-f2ee6d37f8c4"
      },
      "source": [
        "plt.plot(range(1, 10, 2), non_normal_mae_weighted, 'o', label='Weighted Non-Normalized Mean Absolute Error', color='blue')\n",
        "plt.plot(range(1, 10, 2), normal_mae_weighted, 'o', label='Weighted Normalized Mean Absolute Error', color='green')\n",
        "plt.xlabel('K (Number)')\n",
        "plt.ylabel('Mean Absolute Error')\n",
        "plt.title(\"Overall Mean Absolute Errors with Weights\")\n",
        "plt.legend()"
      ],
      "execution_count": 41,
      "outputs": [
        {
          "output_type": "execute_result",
          "data": {
            "text/plain": [
              "<matplotlib.legend.Legend at 0x7f8356c3e650>"
            ]
          },
          "metadata": {},
          "execution_count": 41
        },
        {
          "output_type": "display_data",
          "data": {
            "image/png": "[encoded data removed]",
            "text/plain": [
              "<Figure size 432x288 with 1 Axes>"
            ]
          },
          "metadata": {
            "needs_background": "light"
          }
        }
      ]
    },
    {
      "cell_type": "markdown",
      "metadata": {
        "id": "VzAPqeE4VvQA"
      },
      "source": [
        "### Error Analysis for KNN Regression\n"
      ]
    },
    {
      "cell_type": "markdown",
      "metadata": {
        "id": "9IGF6hsBt_Od"
      },
      "source": [
        "#### **Comparison of Performances of Different Features and Normalizations**"
      ]
    },
    {
      "cell_type": "code",
      "metadata": {
        "id": "lzqG0Gq1V0tQ"
      },
      "source": [
        "nnm = ['Non-Normalized Mean Absolute Error']\n",
        "nom = ['Normalized Mean Absolute Error']\n",
        "nnmw = ['Non-Normalized Weighted Mean Absolute Error']\n",
        "nomw = ['Normalized Weighted Mean Absolute Error']\n",
        "\n",
        "nnm.extend(non_normal_mae)\n",
        "nom.extend(normal_mae)\n",
        "nnmw.extend(non_normal_mae_weighted)\n",
        "nomw.extend(normal_mae_weighted)\n",
        "results_dataframe = pd.DataFrame([nnm, nom, nnmw, nomw], columns=['Category','k=1', 'k=3', 'k=5', 'k=7', 'k=9'])\n",
        "results_dataframe.set_index('Category', inplace=True)"
      ],
      "execution_count": 42,
      "outputs": []
    },
    {
      "cell_type": "markdown",
      "metadata": {
        "id": "WLkLIUsTVyHY"
      },
      "source": [
        "Below we can see our accuracy results between different \"k\" values and Normalize/Weighted categories after k-fold averaging. It is worth pointing out that becuase our accuracy function this time is an error function, the lower numbers mean better results unlike Part 1.\n",
        "\n",
        "Firstly, we can clearly see that, just like in Part 1, Non-Normalized values gave us better results regardless of whether they are weighted or not. This, again, is most likely caused by our dataset that has been given to us, so our explanations and hypothesies are identical to Part 1. As a plus, just like in Part 1, we again experimented with external datasets and they again gave the expected results of better normalized predictions, pointing us at the dataset as our culprit once again.\n",
        "\n",
        "Secondly, we can see that Weighted models' accuracy is significantly better than their Non-Weighted counterparts. This is, again a similar result to the one that we got in Part 1, so for deeper explanations please refer to that part's third point.\n",
        "\n",
        "Thirdly, we can see that; Non-Normalized Weighted MAE test's result is significantly better that our other tests. It seems to be a result of it being best of both worlds, meaning it being both a Non-Normalized and Weighted test together most likely resulted in it getting predictions far greater than any of its other counterparts. It also has a different most efficent \"k\" value than its counterparts , again, most likely stemming from the same reasons said previously, as the other three tests' problems result in them having k=1 as their best results and Non-Normalized Weighted MAE having k=5 (sometimes 3 or 7) as its most efficent k value.\n"
      ]
    },
    {
      "cell_type": "code",
      "metadata": {
        "colab": {
          "base_uri": "https://localhost:8080/",
          "height": 203
        },
        "id": "InDjpIxjWF_Z",
        "outputId": "c541e181-bcb9-4156-f357-8aa9da1ceb55"
      },
      "source": [
        "results_dataframe"
      ],
      "execution_count": 43,
      "outputs": [
        {
          "output_type": "execute_result",
          "data": {
            "text/html": [
              "<div>\n",
              "<style scoped>\n",
              "    .dataframe tbody tr th:only-of-type {\n",
              "        vertical-align: middle;\n",
              "    }\n",
              "\n",
              "    .dataframe tbody tr th {\n",
              "        vertical-align: top;\n",
              "    }\n",
              "\n",
              "    .dataframe thead th {\n",
              "        text-align: right;\n",
              "    }\n",
              "</style>\n",
              "<table border=\"1\" class=\"dataframe\">\n",
              "  <thead>\n",
              "    <tr style=\"text-align: right;\">\n",
              "      <th></th>\n",
              "      <th>k=1</th>\n",
              "      <th>k=3</th>\n",
              "      <th>k=5</th>\n",
              "      <th>k=7</th>\n",
              "      <th>k=9</th>\n",
              "    </tr>\n",
              "    <tr>\n",
              "      <th>Category</th>\n",
              "      <th></th>\n",
              "      <th></th>\n",
              "      <th></th>\n",
              "      <th></th>\n",
              "      <th></th>\n",
              "    </tr>\n",
              "  </thead>\n",
              "  <tbody>\n",
              "    <tr>\n",
              "      <th>Non-Normalized Mean Absolute Error</th>\n",
              "      <td>6.214437</td>\n",
              "      <td>6.590078</td>\n",
              "      <td>6.957299</td>\n",
              "      <td>7.072974</td>\n",
              "      <td>7.324983</td>\n",
              "    </tr>\n",
              "    <tr>\n",
              "      <th>Normalized Mean Absolute Error</th>\n",
              "      <td>6.531961</td>\n",
              "      <td>6.735401</td>\n",
              "      <td>7.127951</td>\n",
              "      <td>7.341383</td>\n",
              "      <td>7.555942</td>\n",
              "    </tr>\n",
              "    <tr>\n",
              "      <th>Non-Normalized Weighted Mean Absolute Error</th>\n",
              "      <td>6.214437</td>\n",
              "      <td>5.444172</td>\n",
              "      <td>5.473276</td>\n",
              "      <td>5.489626</td>\n",
              "      <td>5.578038</td>\n",
              "    </tr>\n",
              "    <tr>\n",
              "      <th>Normalized Weighted Mean Absolute Error</th>\n",
              "      <td>6.531961</td>\n",
              "      <td>6.387153</td>\n",
              "      <td>6.742542</td>\n",
              "      <td>6.865781</td>\n",
              "      <td>7.045501</td>\n",
              "    </tr>\n",
              "  </tbody>\n",
              "</table>\n",
              "</div>"
            ],
            "text/plain": [
              "                                                  k=1  ...       k=9\n",
              "Category                                               ...          \n",
              "Non-Normalized Mean Absolute Error           6.214437  ...  7.324983\n",
              "Normalized Mean Absolute Error               6.531961  ...  7.555942\n",
              "Non-Normalized Weighted Mean Absolute Error  6.214437  ...  5.578038\n",
              "Normalized Weighted Mean Absolute Error      6.531961  ...  7.045501\n",
              "\n",
              "[4 rows x 5 columns]"
            ]
          },
          "metadata": {},
          "execution_count": 43
        }
      ]
    },
    {
      "cell_type": "markdown",
      "metadata": {
        "id": "aFmmCZ5IuaM1"
      },
      "source": [
        "#### **Problem Regarding Duplicated Attributes Different Targets**"
      ]
    },
    {
      "cell_type": "markdown",
      "metadata": {
        "id": "y7W4-88YpZ_t"
      },
      "source": [
        "Below, we can also see another problem resulting in unwanted errors. That being identical attributes having different targets (ID: 111 and 114 for a single example). This fact can mean two things: either there is a dataset error that wasn't caught before or there are more attributes affecting concrete strength that we do not have in our grasp to train with within this dataset. Both options resulting in unwanted problems for us and increasing the errors we got."
      ]
    },
    {
      "cell_type": "code",
      "metadata": {
        "id": "OAtkIT-rpaHr",
        "colab": {
          "base_uri": "https://localhost:8080/",
          "height": 1000
        },
        "outputId": "e2a08676-b18d-4b60-e772-55c02c7eb705"
      },
      "source": [
        "df_2[df_2[df_2.columns[:-1]].duplicated()]"
      ],
      "execution_count": 44,
      "outputs": [
        {
          "output_type": "execute_result",
          "data": {
            "text/html": [
              "<div>\n",
              "<style scoped>\n",
              "    .dataframe tbody tr th:only-of-type {\n",
              "        vertical-align: middle;\n",
              "    }\n",
              "\n",
              "    .dataframe tbody tr th {\n",
              "        vertical-align: top;\n",
              "    }\n",
              "\n",
              "    .dataframe thead th {\n",
              "        text-align: right;\n",
              "    }\n",
              "</style>\n",
              "<table border=\"1\" class=\"dataframe\">\n",
              "  <thead>\n",
              "    <tr style=\"text-align: right;\">\n",
              "      <th></th>\n",
              "      <th>cement</th>\n",
              "      <th>slag</th>\n",
              "      <th>flyash</th>\n",
              "      <th>water</th>\n",
              "      <th>superplasticizer</th>\n",
              "      <th>coarseaggregate</th>\n",
              "      <th>fineaggregate</th>\n",
              "      <th>age</th>\n",
              "      <th>csMPa</th>\n",
              "    </tr>\n",
              "  </thead>\n",
              "  <tbody>\n",
              "    <tr>\n",
              "      <th>77</th>\n",
              "      <td>425.0</td>\n",
              "      <td>106.3</td>\n",
              "      <td>0.0</td>\n",
              "      <td>153.5</td>\n",
              "      <td>16.5</td>\n",
              "      <td>852.1</td>\n",
              "      <td>887.1</td>\n",
              "      <td>3</td>\n",
              "      <td>33.40</td>\n",
              "    </tr>\n",
              "    <tr>\n",
              "      <th>80</th>\n",
              "      <td>425.0</td>\n",
              "      <td>106.3</td>\n",
              "      <td>0.0</td>\n",
              "      <td>153.5</td>\n",
              "      <td>16.5</td>\n",
              "      <td>852.1</td>\n",
              "      <td>887.1</td>\n",
              "      <td>3</td>\n",
              "      <td>33.40</td>\n",
              "    </tr>\n",
              "    <tr>\n",
              "      <th>86</th>\n",
              "      <td>362.6</td>\n",
              "      <td>189.0</td>\n",
              "      <td>0.0</td>\n",
              "      <td>164.9</td>\n",
              "      <td>11.6</td>\n",
              "      <td>944.7</td>\n",
              "      <td>755.8</td>\n",
              "      <td>3</td>\n",
              "      <td>35.30</td>\n",
              "    </tr>\n",
              "    <tr>\n",
              "      <th>88</th>\n",
              "      <td>362.6</td>\n",
              "      <td>189.0</td>\n",
              "      <td>0.0</td>\n",
              "      <td>164.9</td>\n",
              "      <td>11.6</td>\n",
              "      <td>944.7</td>\n",
              "      <td>755.8</td>\n",
              "      <td>3</td>\n",
              "      <td>35.30</td>\n",
              "    </tr>\n",
              "    <tr>\n",
              "      <th>91</th>\n",
              "      <td>362.6</td>\n",
              "      <td>189.0</td>\n",
              "      <td>0.0</td>\n",
              "      <td>164.9</td>\n",
              "      <td>11.6</td>\n",
              "      <td>944.7</td>\n",
              "      <td>755.8</td>\n",
              "      <td>3</td>\n",
              "      <td>35.30</td>\n",
              "    </tr>\n",
              "    <tr>\n",
              "      <th>100</th>\n",
              "      <td>425.0</td>\n",
              "      <td>106.3</td>\n",
              "      <td>0.0</td>\n",
              "      <td>153.5</td>\n",
              "      <td>16.5</td>\n",
              "      <td>852.1</td>\n",
              "      <td>887.1</td>\n",
              "      <td>7</td>\n",
              "      <td>49.20</td>\n",
              "    </tr>\n",
              "    <tr>\n",
              "      <th>103</th>\n",
              "      <td>425.0</td>\n",
              "      <td>106.3</td>\n",
              "      <td>0.0</td>\n",
              "      <td>153.5</td>\n",
              "      <td>16.5</td>\n",
              "      <td>852.1</td>\n",
              "      <td>887.1</td>\n",
              "      <td>7</td>\n",
              "      <td>49.20</td>\n",
              "    </tr>\n",
              "    <tr>\n",
              "      <th>109</th>\n",
              "      <td>362.6</td>\n",
              "      <td>189.0</td>\n",
              "      <td>0.0</td>\n",
              "      <td>164.9</td>\n",
              "      <td>11.6</td>\n",
              "      <td>944.7</td>\n",
              "      <td>755.8</td>\n",
              "      <td>7</td>\n",
              "      <td>55.90</td>\n",
              "    </tr>\n",
              "    <tr>\n",
              "      <th>111</th>\n",
              "      <td>362.6</td>\n",
              "      <td>189.0</td>\n",
              "      <td>0.0</td>\n",
              "      <td>164.9</td>\n",
              "      <td>11.6</td>\n",
              "      <td>944.7</td>\n",
              "      <td>755.8</td>\n",
              "      <td>7</td>\n",
              "      <td>55.90</td>\n",
              "    </tr>\n",
              "    <tr>\n",
              "      <th>114</th>\n",
              "      <td>362.6</td>\n",
              "      <td>189.0</td>\n",
              "      <td>0.0</td>\n",
              "      <td>164.9</td>\n",
              "      <td>11.6</td>\n",
              "      <td>944.7</td>\n",
              "      <td>755.8</td>\n",
              "      <td>7</td>\n",
              "      <td>22.90</td>\n",
              "    </tr>\n",
              "    <tr>\n",
              "      <th>123</th>\n",
              "      <td>425.0</td>\n",
              "      <td>106.3</td>\n",
              "      <td>0.0</td>\n",
              "      <td>153.5</td>\n",
              "      <td>16.5</td>\n",
              "      <td>852.1</td>\n",
              "      <td>887.1</td>\n",
              "      <td>28</td>\n",
              "      <td>60.29</td>\n",
              "    </tr>\n",
              "    <tr>\n",
              "      <th>126</th>\n",
              "      <td>425.0</td>\n",
              "      <td>106.3</td>\n",
              "      <td>0.0</td>\n",
              "      <td>153.5</td>\n",
              "      <td>16.5</td>\n",
              "      <td>852.1</td>\n",
              "      <td>887.1</td>\n",
              "      <td>28</td>\n",
              "      <td>60.29</td>\n",
              "    </tr>\n",
              "    <tr>\n",
              "      <th>132</th>\n",
              "      <td>362.6</td>\n",
              "      <td>189.0</td>\n",
              "      <td>0.0</td>\n",
              "      <td>164.9</td>\n",
              "      <td>11.6</td>\n",
              "      <td>944.7</td>\n",
              "      <td>755.8</td>\n",
              "      <td>28</td>\n",
              "      <td>71.30</td>\n",
              "    </tr>\n",
              "    <tr>\n",
              "      <th>134</th>\n",
              "      <td>362.6</td>\n",
              "      <td>189.0</td>\n",
              "      <td>0.0</td>\n",
              "      <td>164.9</td>\n",
              "      <td>11.6</td>\n",
              "      <td>944.7</td>\n",
              "      <td>755.8</td>\n",
              "      <td>28</td>\n",
              "      <td>71.30</td>\n",
              "    </tr>\n",
              "    <tr>\n",
              "      <th>137</th>\n",
              "      <td>362.6</td>\n",
              "      <td>189.0</td>\n",
              "      <td>0.0</td>\n",
              "      <td>164.9</td>\n",
              "      <td>11.6</td>\n",
              "      <td>944.7</td>\n",
              "      <td>755.8</td>\n",
              "      <td>28</td>\n",
              "      <td>71.30</td>\n",
              "    </tr>\n",
              "    <tr>\n",
              "      <th>146</th>\n",
              "      <td>425.0</td>\n",
              "      <td>106.3</td>\n",
              "      <td>0.0</td>\n",
              "      <td>153.5</td>\n",
              "      <td>16.5</td>\n",
              "      <td>852.1</td>\n",
              "      <td>887.1</td>\n",
              "      <td>56</td>\n",
              "      <td>64.30</td>\n",
              "    </tr>\n",
              "    <tr>\n",
              "      <th>149</th>\n",
              "      <td>425.0</td>\n",
              "      <td>106.3</td>\n",
              "      <td>0.0</td>\n",
              "      <td>153.5</td>\n",
              "      <td>16.5</td>\n",
              "      <td>852.1</td>\n",
              "      <td>887.1</td>\n",
              "      <td>56</td>\n",
              "      <td>64.30</td>\n",
              "    </tr>\n",
              "    <tr>\n",
              "      <th>155</th>\n",
              "      <td>362.6</td>\n",
              "      <td>189.0</td>\n",
              "      <td>0.0</td>\n",
              "      <td>164.9</td>\n",
              "      <td>11.6</td>\n",
              "      <td>944.7</td>\n",
              "      <td>755.8</td>\n",
              "      <td>56</td>\n",
              "      <td>77.30</td>\n",
              "    </tr>\n",
              "    <tr>\n",
              "      <th>157</th>\n",
              "      <td>362.6</td>\n",
              "      <td>189.0</td>\n",
              "      <td>0.0</td>\n",
              "      <td>164.9</td>\n",
              "      <td>11.6</td>\n",
              "      <td>944.7</td>\n",
              "      <td>755.8</td>\n",
              "      <td>56</td>\n",
              "      <td>77.30</td>\n",
              "    </tr>\n",
              "    <tr>\n",
              "      <th>160</th>\n",
              "      <td>362.6</td>\n",
              "      <td>189.0</td>\n",
              "      <td>0.0</td>\n",
              "      <td>164.9</td>\n",
              "      <td>11.6</td>\n",
              "      <td>944.7</td>\n",
              "      <td>755.8</td>\n",
              "      <td>56</td>\n",
              "      <td>77.30</td>\n",
              "    </tr>\n",
              "    <tr>\n",
              "      <th>169</th>\n",
              "      <td>425.0</td>\n",
              "      <td>106.3</td>\n",
              "      <td>0.0</td>\n",
              "      <td>153.5</td>\n",
              "      <td>16.5</td>\n",
              "      <td>852.1</td>\n",
              "      <td>887.1</td>\n",
              "      <td>91</td>\n",
              "      <td>65.20</td>\n",
              "    </tr>\n",
              "    <tr>\n",
              "      <th>172</th>\n",
              "      <td>425.0</td>\n",
              "      <td>106.3</td>\n",
              "      <td>0.0</td>\n",
              "      <td>153.5</td>\n",
              "      <td>16.5</td>\n",
              "      <td>852.1</td>\n",
              "      <td>887.1</td>\n",
              "      <td>91</td>\n",
              "      <td>65.20</td>\n",
              "    </tr>\n",
              "    <tr>\n",
              "      <th>177</th>\n",
              "      <td>362.6</td>\n",
              "      <td>189.0</td>\n",
              "      <td>0.0</td>\n",
              "      <td>164.9</td>\n",
              "      <td>11.6</td>\n",
              "      <td>944.7</td>\n",
              "      <td>755.8</td>\n",
              "      <td>91</td>\n",
              "      <td>79.30</td>\n",
              "    </tr>\n",
              "    <tr>\n",
              "      <th>179</th>\n",
              "      <td>362.6</td>\n",
              "      <td>189.0</td>\n",
              "      <td>0.0</td>\n",
              "      <td>164.9</td>\n",
              "      <td>11.6</td>\n",
              "      <td>944.7</td>\n",
              "      <td>755.8</td>\n",
              "      <td>91</td>\n",
              "      <td>79.30</td>\n",
              "    </tr>\n",
              "    <tr>\n",
              "      <th>182</th>\n",
              "      <td>362.6</td>\n",
              "      <td>189.0</td>\n",
              "      <td>0.0</td>\n",
              "      <td>164.9</td>\n",
              "      <td>11.6</td>\n",
              "      <td>944.7</td>\n",
              "      <td>755.8</td>\n",
              "      <td>91</td>\n",
              "      <td>79.30</td>\n",
              "    </tr>\n",
              "    <tr>\n",
              "      <th>472</th>\n",
              "      <td>446.0</td>\n",
              "      <td>24.0</td>\n",
              "      <td>79.0</td>\n",
              "      <td>162.0</td>\n",
              "      <td>11.6</td>\n",
              "      <td>967.0</td>\n",
              "      <td>712.0</td>\n",
              "      <td>28</td>\n",
              "      <td>44.42</td>\n",
              "    </tr>\n",
              "    <tr>\n",
              "      <th>473</th>\n",
              "      <td>446.0</td>\n",
              "      <td>24.0</td>\n",
              "      <td>79.0</td>\n",
              "      <td>162.0</td>\n",
              "      <td>11.6</td>\n",
              "      <td>967.0</td>\n",
              "      <td>712.0</td>\n",
              "      <td>28</td>\n",
              "      <td>51.02</td>\n",
              "    </tr>\n",
              "    <tr>\n",
              "      <th>476</th>\n",
              "      <td>446.0</td>\n",
              "      <td>24.0</td>\n",
              "      <td>79.0</td>\n",
              "      <td>162.0</td>\n",
              "      <td>11.6</td>\n",
              "      <td>967.0</td>\n",
              "      <td>712.0</td>\n",
              "      <td>3</td>\n",
              "      <td>25.02</td>\n",
              "    </tr>\n",
              "    <tr>\n",
              "      <th>477</th>\n",
              "      <td>446.0</td>\n",
              "      <td>24.0</td>\n",
              "      <td>79.0</td>\n",
              "      <td>162.0</td>\n",
              "      <td>11.6</td>\n",
              "      <td>967.0</td>\n",
              "      <td>712.0</td>\n",
              "      <td>3</td>\n",
              "      <td>23.35</td>\n",
              "    </tr>\n",
              "    <tr>\n",
              "      <th>479</th>\n",
              "      <td>446.0</td>\n",
              "      <td>24.0</td>\n",
              "      <td>79.0</td>\n",
              "      <td>162.0</td>\n",
              "      <td>11.6</td>\n",
              "      <td>967.0</td>\n",
              "      <td>712.0</td>\n",
              "      <td>7</td>\n",
              "      <td>38.02</td>\n",
              "    </tr>\n",
              "    <tr>\n",
              "      <th>480</th>\n",
              "      <td>446.0</td>\n",
              "      <td>24.0</td>\n",
              "      <td>79.0</td>\n",
              "      <td>162.0</td>\n",
              "      <td>11.6</td>\n",
              "      <td>967.0</td>\n",
              "      <td>712.0</td>\n",
              "      <td>7</td>\n",
              "      <td>39.30</td>\n",
              "    </tr>\n",
              "    <tr>\n",
              "      <th>482</th>\n",
              "      <td>446.0</td>\n",
              "      <td>24.0</td>\n",
              "      <td>79.0</td>\n",
              "      <td>162.0</td>\n",
              "      <td>11.6</td>\n",
              "      <td>967.0</td>\n",
              "      <td>712.0</td>\n",
              "      <td>56</td>\n",
              "      <td>56.14</td>\n",
              "    </tr>\n",
              "    <tr>\n",
              "      <th>483</th>\n",
              "      <td>446.0</td>\n",
              "      <td>24.0</td>\n",
              "      <td>79.0</td>\n",
              "      <td>162.0</td>\n",
              "      <td>11.6</td>\n",
              "      <td>967.0</td>\n",
              "      <td>712.0</td>\n",
              "      <td>56</td>\n",
              "      <td>55.25</td>\n",
              "    </tr>\n",
              "    <tr>\n",
              "      <th>524</th>\n",
              "      <td>359.0</td>\n",
              "      <td>19.0</td>\n",
              "      <td>141.0</td>\n",
              "      <td>154.0</td>\n",
              "      <td>10.9</td>\n",
              "      <td>942.0</td>\n",
              "      <td>801.0</td>\n",
              "      <td>28</td>\n",
              "      <td>59.49</td>\n",
              "    </tr>\n",
              "    <tr>\n",
              "      <th>526</th>\n",
              "      <td>359.0</td>\n",
              "      <td>19.0</td>\n",
              "      <td>141.0</td>\n",
              "      <td>154.0</td>\n",
              "      <td>10.9</td>\n",
              "      <td>942.0</td>\n",
              "      <td>801.0</td>\n",
              "      <td>3</td>\n",
              "      <td>23.64</td>\n",
              "    </tr>\n",
              "    <tr>\n",
              "      <th>528</th>\n",
              "      <td>359.0</td>\n",
              "      <td>19.0</td>\n",
              "      <td>141.0</td>\n",
              "      <td>154.0</td>\n",
              "      <td>10.9</td>\n",
              "      <td>942.0</td>\n",
              "      <td>801.0</td>\n",
              "      <td>7</td>\n",
              "      <td>38.61</td>\n",
              "    </tr>\n",
              "    <tr>\n",
              "      <th>530</th>\n",
              "      <td>359.0</td>\n",
              "      <td>19.0</td>\n",
              "      <td>141.0</td>\n",
              "      <td>154.0</td>\n",
              "      <td>10.9</td>\n",
              "      <td>942.0</td>\n",
              "      <td>801.0</td>\n",
              "      <td>56</td>\n",
              "      <td>66.78</td>\n",
              "    </tr>\n",
              "    <tr>\n",
              "      <th>809</th>\n",
              "      <td>252.0</td>\n",
              "      <td>0.0</td>\n",
              "      <td>0.0</td>\n",
              "      <td>185.0</td>\n",
              "      <td>0.0</td>\n",
              "      <td>1111.0</td>\n",
              "      <td>784.0</td>\n",
              "      <td>28</td>\n",
              "      <td>19.69</td>\n",
              "    </tr>\n",
              "  </tbody>\n",
              "</table>\n",
              "</div>"
            ],
            "text/plain": [
              "     cement   slag  flyash  water  ...  coarseaggregate  fineaggregate  age  csMPa\n",
              "77    425.0  106.3     0.0  153.5  ...            852.1          887.1    3  33.40\n",
              "80    425.0  106.3     0.0  153.5  ...            852.1          887.1    3  33.40\n",
              "86    362.6  189.0     0.0  164.9  ...            944.7          755.8    3  35.30\n",
              "88    362.6  189.0     0.0  164.9  ...            944.7          755.8    3  35.30\n",
              "91    362.6  189.0     0.0  164.9  ...            944.7          755.8    3  35.30\n",
              "100   425.0  106.3     0.0  153.5  ...            852.1          887.1    7  49.20\n",
              "103   425.0  106.3     0.0  153.5  ...            852.1          887.1    7  49.20\n",
              "109   362.6  189.0     0.0  164.9  ...            944.7          755.8    7  55.90\n",
              "111   362.6  189.0     0.0  164.9  ...            944.7          755.8    7  55.90\n",
              "114   362.6  189.0     0.0  164.9  ...            944.7          755.8    7  22.90\n",
              "123   425.0  106.3     0.0  153.5  ...            852.1          887.1   28  60.29\n",
              "126   425.0  106.3     0.0  153.5  ...            852.1          887.1   28  60.29\n",
              "132   362.6  189.0     0.0  164.9  ...            944.7          755.8   28  71.30\n",
              "134   362.6  189.0     0.0  164.9  ...            944.7          755.8   28  71.30\n",
              "137   362.6  189.0     0.0  164.9  ...            944.7          755.8   28  71.30\n",
              "146   425.0  106.3     0.0  153.5  ...            852.1          887.1   56  64.30\n",
              "149   425.0  106.3     0.0  153.5  ...            852.1          887.1   56  64.30\n",
              "155   362.6  189.0     0.0  164.9  ...            944.7          755.8   56  77.30\n",
              "157   362.6  189.0     0.0  164.9  ...            944.7          755.8   56  77.30\n",
              "160   362.6  189.0     0.0  164.9  ...            944.7          755.8   56  77.30\n",
              "169   425.0  106.3     0.0  153.5  ...            852.1          887.1   91  65.20\n",
              "172   425.0  106.3     0.0  153.5  ...            852.1          887.1   91  65.20\n",
              "177   362.6  189.0     0.0  164.9  ...            944.7          755.8   91  79.30\n",
              "179   362.6  189.0     0.0  164.9  ...            944.7          755.8   91  79.30\n",
              "182   362.6  189.0     0.0  164.9  ...            944.7          755.8   91  79.30\n",
              "472   446.0   24.0    79.0  162.0  ...            967.0          712.0   28  44.42\n",
              "473   446.0   24.0    79.0  162.0  ...            967.0          712.0   28  51.02\n",
              "476   446.0   24.0    79.0  162.0  ...            967.0          712.0    3  25.02\n",
              "477   446.0   24.0    79.0  162.0  ...            967.0          712.0    3  23.35\n",
              "479   446.0   24.0    79.0  162.0  ...            967.0          712.0    7  38.02\n",
              "480   446.0   24.0    79.0  162.0  ...            967.0          712.0    7  39.30\n",
              "482   446.0   24.0    79.0  162.0  ...            967.0          712.0   56  56.14\n",
              "483   446.0   24.0    79.0  162.0  ...            967.0          712.0   56  55.25\n",
              "524   359.0   19.0   141.0  154.0  ...            942.0          801.0   28  59.49\n",
              "526   359.0   19.0   141.0  154.0  ...            942.0          801.0    3  23.64\n",
              "528   359.0   19.0   141.0  154.0  ...            942.0          801.0    7  38.61\n",
              "530   359.0   19.0   141.0  154.0  ...            942.0          801.0   56  66.78\n",
              "809   252.0    0.0     0.0  185.0  ...           1111.0          784.0   28  19.69\n",
              "\n",
              "[38 rows x 9 columns]"
            ]
          },
          "metadata": {},
          "execution_count": 44
        }
      ]
    },
    {
      "cell_type": "markdown",
      "metadata": {
        "id": "qZfLGpp2uBeE"
      },
      "source": [
        "#### **Speed Discussion**"
      ]
    },
    {
      "cell_type": "markdown",
      "metadata": {
        "id": "d1W0deGYpaOr"
      },
      "source": [
        "Lastly, just like in Part 1, the timing slows down considerably when we increase our datasets even moderately. This results in a considerable drop in meaningful dataset size that we can test our codes with. This is considerably more noticeable in Part 2 as well, more than Part 1 since Part 2's both training and test datasets are 4 times the size of Part 1's, resulting in a whopping 16 times slowdown (coming from O(mn))."
      ]
    }
  ]
}